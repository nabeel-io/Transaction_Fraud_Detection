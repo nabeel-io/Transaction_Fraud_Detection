{
 "cells": [
  {
   "cell_type": "code",
   "execution_count": 3,
   "id": "d2dfcaee-11e8-466b-857e-62fb53d0a943",
   "metadata": {},
   "outputs": [],
   "source": [
    "import numpy as np\n",
    "import pandas as pd\n",
    "import matplotlib.pyplot as plt\n",
    "import seaborn as sns"
   ]
  },
  {
   "cell_type": "markdown",
   "id": "3dbb10ed-c59d-4e88-a85a-e71ce5a61b2e",
   "metadata": {},
   "source": [
    "### **Import Training and Testing set**"
   ]
  },
  {
   "cell_type": "markdown",
   "id": "05daba50-c86e-4cf1-af27-f9485ee87a13",
   "metadata": {},
   "source": [
    "*We will use SMOTE balanced dataset for the purpose of tunning the hyperparameters* "
   ]
  },
  {
   "cell_type": "code",
   "execution_count": 4,
   "id": "5a6a8351-0a5b-4cd4-8ec1-ae2cbc6dc6e5",
   "metadata": {},
   "outputs": [],
   "source": [
    "train_smote = pd.read_pickle(\"data/train_smote.pickle\")\n",
    "test = pd.read_pickle(\"data/test.pickle\")"
   ]
  },
  {
   "cell_type": "markdown",
   "id": "41e6330f-1c1a-400e-89af-a4fc053d9191",
   "metadata": {},
   "source": [
    "### **Split Attributes and Target Class**"
   ]
  },
  {
   "cell_type": "code",
   "execution_count": 5,
   "id": "721e0df9-ef31-48b7-8ea6-f90756ced900",
   "metadata": {},
   "outputs": [],
   "source": [
    "x = train_smote.iloc[:, :-1]\n",
    "y = train_smote[\"Class\"]"
   ]
  },
  {
   "cell_type": "markdown",
   "id": "5070196a-c2ac-4969-afdc-9d32c52be5a0",
   "metadata": {},
   "source": [
    "### **Split training and validation set**"
   ]
  },
  {
   "cell_type": "code",
   "execution_count": 6,
   "id": "e8c23642-0cde-4672-b04b-c9dc02f11401",
   "metadata": {},
   "outputs": [],
   "source": [
    "from sklearn.model_selection import train_test_split\n",
    "xtrain, xvalid, ytrain, yvalid = train_test_split(x, y, test_size=0.25, stratify=y,random_state=123)"
   ]
  },
  {
   "cell_type": "markdown",
   "id": "eaa5ea23-30b4-4ba9-b639-288e970431bc",
   "metadata": {},
   "source": [
    "### **LightGBM**"
   ]
  },
  {
   "cell_type": "markdown",
   "id": "a497ebd5-8da1-428a-b1c4-9687610af24e",
   "metadata": {},
   "source": [
    "*It stands for `Light Gradient Boosting machine`. It gives faster training , low memory usage in comparison to other frameworks. \n",
    "LightGBM use leaf wise tree growth rather than level wise growth.*"
   ]
  },
  {
   "cell_type": "code",
   "execution_count": 7,
   "id": "9856a10d-49ee-4835-ae11-6933b34e40cd",
   "metadata": {},
   "outputs": [],
   "source": [
    "import lightgbm\n",
    "from lightgbm import LGBMClassifier\n",
    "from sklearn.metrics import roc_auc_score"
   ]
  },
  {
   "cell_type": "markdown",
   "id": "28965017-cc0e-4067-b084-c6762eb3d7f8",
   "metadata": {},
   "source": [
    "### **Tunning Hyperparameter**"
   ]
  },
  {
   "cell_type": "markdown",
   "id": "1ff07a31-0614-497f-8fa0-37a3446713f5",
   "metadata": {},
   "source": [
    "*Following hyperparameters are needed to be tuned using optuna.*\n",
    "1. max_depth\n",
    "2. subsample\n",
    "3. learning_rate"
   ]
  },
  {
   "cell_type": "code",
   "execution_count": 68,
   "id": "c95fbea8-7ad9-4719-8121-cf1e7e227227",
   "metadata": {},
   "outputs": [],
   "source": [
    "def optimize(trial):\n",
    "    params = {\n",
    "        \"objective\": \"binary\",\n",
    "        \"metric\": \"auc\",\n",
    "        \"num_leaves\": trial.suggest_int(\"num_leaves\", 50, 300),\n",
    "        \"feature_fraction\":trial.suggest_float(\"feature_fraction\", 0.5, 1.0),\n",
    "        \"learning_rate\": trial.suggest_float(\"learning_rate\", 0.01, 1.0),\n",
    "        \"min_data_in_leaf\":trial.suggest_int(\"min_data_in_leaf\", 30, 100),\n",
    "        \"num_threads\": -1,\n",
    "        \"verbosity\":-1      # to remove unnecessary warnings \n",
    "    }\n",
    "    lgbm_train = lightgbm.Dataset(xtrain.to_numpy(), ytrain.to_numpy())\n",
    "    model_lgbm = lightgbm.train(params, lgbm_train)\n",
    "    pred_prob = model_lgbm.predict(xvalid.to_numpy())\n",
    "    v_pred = []\n",
    "    for prob in pred_prob:\n",
    "        if prob >=0.5:\n",
    "            v_pred.append(1)\n",
    "        else:\n",
    "            v_pred.append(0)\n",
    "    v_pred = np.array(v_pred)\n",
    "    auc = roc_auc_score(yvalid.to_numpy(), v_pred)\n",
    "    return auc"
   ]
  },
  {
   "cell_type": "code",
   "execution_count": 70,
   "id": "44cb1b64-d536-4008-87c6-5e02afd3e594",
   "metadata": {},
   "outputs": [
    {
     "name": "stderr",
     "output_type": "stream",
     "text": [
      "\u001b[32m[I 2022-07-23 19:59:23,455]\u001b[0m A new study created in memory with name: no-name-d7176e23-9c00-42a2-aeb0-3a901170401b\u001b[0m\n",
      "\u001b[32m[I 2022-07-23 19:59:25,138]\u001b[0m Trial 0 finished with value: 0.9998937020877715 and parameters: {'num_leaves': 280, 'feature_fraction': 0.664887170738208, 'learning_rate': 0.43378345967425547, 'min_data_in_leaf': 96}. Best is trial 0 with value: 0.9998937020877715.\u001b[0m\n",
      "\u001b[32m[I 2022-07-23 19:59:27,796]\u001b[0m Trial 1 finished with value: 0.9998937020877715 and parameters: {'num_leaves': 256, 'feature_fraction': 0.7916170587955753, 'learning_rate': 0.09414368760738201, 'min_data_in_leaf': 88}. Best is trial 0 with value: 0.9998937020877715.\u001b[0m\n",
      "\u001b[32m[I 2022-07-23 19:59:29,372]\u001b[0m Trial 2 finished with value: 0.9999030813670677 and parameters: {'num_leaves': 205, 'feature_fraction': 0.7621384815367658, 'learning_rate': 0.3966985166929859, 'min_data_in_leaf': 43}. Best is trial 2 with value: 0.9999030813670677.\u001b[0m\n",
      "\u001b[32m[I 2022-07-23 19:59:30,819]\u001b[0m Trial 3 finished with value: 0.9999030813670677 and parameters: {'num_leaves': 269, 'feature_fraction': 0.5005762008247572, 'learning_rate': 0.5422993938407049, 'min_data_in_leaf': 79}. Best is trial 2 with value: 0.9999030813670677.\u001b[0m\n",
      "\u001b[32m[I 2022-07-23 19:59:32,121]\u001b[0m Trial 4 finished with value: 0.9998718176892085 and parameters: {'num_leaves': 152, 'feature_fraction': 0.59006292761945, 'learning_rate': 0.8906156428200834, 'min_data_in_leaf': 86}. Best is trial 2 with value: 0.9999030813670677.\u001b[0m\n",
      "\u001b[32m[I 2022-07-23 19:59:33,293]\u001b[0m Trial 5 finished with value: 0.9675231355585295 and parameters: {'num_leaves': 73, 'feature_fraction': 0.6004693719567396, 'learning_rate': 0.6404614480339895, 'min_data_in_leaf': 49}. Best is trial 2 with value: 0.9999030813670677.\u001b[0m\n",
      "\u001b[32m[I 2022-07-23 19:59:35,566]\u001b[0m Trial 6 finished with value: 0.9998624384099124 and parameters: {'num_leaves': 233, 'feature_fraction': 0.968013044530837, 'learning_rate': 0.4142863738371332, 'min_data_in_leaf': 82}. Best is trial 2 with value: 0.9999030813670677.\u001b[0m\n",
      "\u001b[32m[I 2022-07-23 19:59:36,787]\u001b[0m Trial 7 finished with value: 0.897444367429143 and parameters: {'num_leaves': 118, 'feature_fraction': 0.6481177006257886, 'learning_rate': 0.8371115649335868, 'min_data_in_leaf': 64}. Best is trial 2 with value: 0.9999030813670677.\u001b[0m\n",
      "\u001b[32m[I 2022-07-23 19:59:38,708]\u001b[0m Trial 8 finished with value: 0.9998217954527572 and parameters: {'num_leaves': 101, 'feature_fraction': 0.5141908241427693, 'learning_rate': 0.3993344960869286, 'min_data_in_leaf': 43}. Best is trial 2 with value: 0.9999030813670677.\u001b[0m\n",
      "\u001b[32m[I 2022-07-23 19:59:39,836]\u001b[0m Trial 9 finished with value: 0.8930176238247286 and parameters: {'num_leaves': 122, 'feature_fraction': 0.6491091740451065, 'learning_rate': 0.781845041671733, 'min_data_in_leaf': 40}. Best is trial 2 with value: 0.9999030813670677.\u001b[0m\n",
      "\u001b[32m[I 2022-07-23 19:59:42,537]\u001b[0m Trial 10 finished with value: 0.9998937020877715 and parameters: {'num_leaves': 199, 'feature_fraction': 0.8143063440561665, 'learning_rate': 0.10843340292705445, 'min_data_in_leaf': 31}. Best is trial 2 with value: 0.9999030813670677.\u001b[0m\n",
      "\u001b[32m[I 2022-07-23 19:59:45,430]\u001b[0m Trial 11 finished with value: 0.9998937020877715 and parameters: {'num_leaves': 300, 'feature_fraction': 0.8876608843639865, 'learning_rate': 0.26289207732373343, 'min_data_in_leaf': 67}. Best is trial 2 with value: 0.9999030813670677.\u001b[0m\n",
      "\u001b[32m[I 2022-07-23 19:59:47,222]\u001b[0m Trial 12 finished with value: 0.9999030813670677 and parameters: {'num_leaves': 203, 'feature_fraction': 0.7453769043764871, 'learning_rate': 0.6233981659920018, 'min_data_in_leaf': 67}. Best is trial 2 with value: 0.9999030813670677.\u001b[0m\n",
      "\u001b[32m[I 2022-07-23 19:59:49,091]\u001b[0m Trial 13 finished with value: 0.9998811969685049 and parameters: {'num_leaves': 233, 'feature_fraction': 0.7334655370488304, 'learning_rate': 0.5906221079256571, 'min_data_in_leaf': 57}. Best is trial 2 with value: 0.9999030813670677.\u001b[0m\n",
      "\u001b[32m[I 2022-07-23 19:59:51,230]\u001b[0m Trial 14 finished with value: 0.9999249657656305 and parameters: {'num_leaves': 181, 'feature_fraction': 0.5047515626192336, 'learning_rate': 0.29059732135227084, 'min_data_in_leaf': 78}. Best is trial 14 with value: 0.9999249657656305.\u001b[0m\n",
      "\u001b[32m[I 2022-07-23 19:59:53,654]\u001b[0m Trial 15 finished with value: 0.9999124606463639 and parameters: {'num_leaves': 169, 'feature_fraction': 0.8723573381927383, 'learning_rate': 0.24912159835177916, 'min_data_in_leaf': 74}. Best is trial 14 with value: 0.9999249657656305.\u001b[0m\n",
      "\u001b[32m[I 2022-07-23 19:59:56,180]\u001b[0m Trial 16 finished with value: 0.9999124606463639 and parameters: {'num_leaves': 164, 'feature_fraction': 0.8899768889451685, 'learning_rate': 0.2401546312572239, 'min_data_in_leaf': 75}. Best is trial 14 with value: 0.9999249657656305.\u001b[0m\n",
      "\u001b[32m[I 2022-07-23 19:59:59,003]\u001b[0m Trial 17 finished with value: 0.9999030813670677 and parameters: {'num_leaves': 149, 'feature_fraction': 0.9724766797974752, 'learning_rate': 0.23380461635075372, 'min_data_in_leaf': 96}. Best is trial 14 with value: 0.9999249657656305.\u001b[0m\n",
      "\u001b[32m[I 2022-07-23 20:00:01,835]\u001b[0m Trial 18 finished with value: 0.9942975019916145 and parameters: {'num_leaves': 184, 'feature_fraction': 0.8513834729908849, 'learning_rate': 0.01298507390562853, 'min_data_in_leaf': 72}. Best is trial 14 with value: 0.9999249657656305.\u001b[0m\n",
      "\u001b[32m[I 2022-07-23 20:00:03,937]\u001b[0m Trial 19 finished with value: 0.9999531036035191 and parameters: {'num_leaves': 51, 'feature_fraction': 0.9370561477328154, 'learning_rate': 0.31250202122150966, 'min_data_in_leaf': 59}. Best is trial 19 with value: 0.9999531036035191.\u001b[0m\n",
      "\u001b[32m[I 2022-07-23 20:00:05,902]\u001b[0m Trial 20 finished with value: 0.9999249657656305 and parameters: {'num_leaves': 56, 'feature_fraction': 0.6939857135872762, 'learning_rate': 0.3225115628646014, 'min_data_in_leaf': 56}. Best is trial 19 with value: 0.9999531036035191.\u001b[0m\n",
      "\u001b[32m[I 2022-07-23 20:00:07,704]\u001b[0m Trial 21 finished with value: 0.9999437243242228 and parameters: {'num_leaves': 50, 'feature_fraction': 0.5569919364694844, 'learning_rate': 0.3109148997555367, 'min_data_in_leaf': 57}. Best is trial 19 with value: 0.9999531036035191.\u001b[0m\n",
      "\u001b[32m[I 2022-07-23 20:00:09,755]\u001b[0m Trial 22 finished with value: 0.9998718176892085 and parameters: {'num_leaves': 84, 'feature_fraction': 0.5637078213946025, 'learning_rate': 0.13600581462707467, 'min_data_in_leaf': 58}. Best is trial 19 with value: 0.9999531036035191.\u001b[0m\n",
      "\u001b[32m[I 2022-07-23 20:00:11,335]\u001b[0m Trial 23 finished with value: 0.9953760680885219 and parameters: {'num_leaves': 55, 'feature_fraction': 0.6964577092741154, 'learning_rate': 0.33822393593380173, 'min_data_in_leaf': 53}. Best is trial 19 with value: 0.9999531036035191.\u001b[0m\n",
      "\u001b[32m[I 2022-07-23 20:00:12,843]\u001b[0m Trial 24 finished with value: 0.9429681718048256 and parameters: {'num_leaves': 51, 'feature_fraction': 0.9245354615875442, 'learning_rate': 0.49785982017358155, 'min_data_in_leaf': 60}. Best is trial 19 with value: 0.9999531036035191.\u001b[0m\n",
      "\u001b[32m[I 2022-07-23 20:00:14,964]\u001b[0m Trial 25 finished with value: 0.9999124606463639 and parameters: {'num_leaves': 85, 'feature_fraction': 0.5596052091893946, 'learning_rate': 0.17995963392521575, 'min_data_in_leaf': 50}. Best is trial 19 with value: 0.9999531036035191.\u001b[0m\n",
      "\u001b[32m[I 2022-07-23 20:00:17,075]\u001b[0m Trial 26 finished with value: 0.9999124606463639 and parameters: {'num_leaves': 68, 'feature_fraction': 0.693155931058891, 'learning_rate': 0.33187022012115835, 'min_data_in_leaf': 63}. Best is trial 19 with value: 0.9999531036035191.\u001b[0m\n",
      "\u001b[32m[I 2022-07-23 20:00:19,221]\u001b[0m Trial 27 finished with value: 0.9998624384099124 and parameters: {'num_leaves': 103, 'feature_fraction': 0.8207193107546459, 'learning_rate': 0.4812001686639464, 'min_data_in_leaf': 53}. Best is trial 19 with value: 0.9999531036035191.\u001b[0m\n",
      "\u001b[32m[I 2022-07-23 20:00:21,590]\u001b[0m Trial 28 finished with value: 0.9999249657656305 and parameters: {'num_leaves': 64, 'feature_fraction': 0.6135231651683238, 'learning_rate': 0.3397839002706574, 'min_data_in_leaf': 33}. Best is trial 19 with value: 0.9999531036035191.\u001b[0m\n",
      "\u001b[32m[I 2022-07-23 20:00:23,672]\u001b[0m Trial 29 finished with value: 0.9999030813670677 and parameters: {'num_leaves': 129, 'feature_fraction': 0.5434676561733081, 'learning_rate': 0.17945524715422076, 'min_data_in_leaf': 98}. Best is trial 19 with value: 0.9999531036035191.\u001b[0m\n"
     ]
    }
   ],
   "source": [
    "import optuna\n",
    "study = optuna.create_study(direction=\"maximize\")\n",
    "study.optimize(optimize,n_trials=30)"
   ]
  },
  {
   "cell_type": "markdown",
   "id": "1eab56dd-8938-4c34-aeb9-0d0b0299f068",
   "metadata": {},
   "source": [
    "### **Fitting model**"
   ]
  },
  {
   "cell_type": "markdown",
   "id": "9d0973a1-6134-45fe-9337-5b98c8e93540",
   "metadata": {},
   "source": [
    "*We implement function that fits the data with specific hyperparameters to the LightGBM model and then \n",
    "prints the precision recall for target classes in test set with the confusion matrix of validation and \n",
    "test set*"
   ]
  },
  {
   "cell_type": "code",
   "execution_count": 26,
   "id": "891e976b-6ea1-4ec1-849f-e72b24769c9d",
   "metadata": {},
   "outputs": [],
   "source": [
    "from sklearn.metrics import classification_report, confusion_matrix"
   ]
  },
  {
   "cell_type": "code",
   "execution_count": 71,
   "id": "65e520f3-2f24-466e-afc2-9c1cdf2c5b6e",
   "metadata": {},
   "outputs": [],
   "source": [
    "def lgbm_fit(train_set):\n",
    "    xtrain, xvalid, ytrain, yvalid = train_test_split(train_set.iloc[:,:-1].to_numpy(), \n",
    "                                                      train_set[\"Class\"].to_numpy(), test_size=0.25, random_state=123)\n",
    "    lgb = LGBMClassifier(objective=\"binary\",\n",
    "                        metric=\"auc\",\n",
    "                        num_leaves=55, \n",
    "                        feature_fraction=0.90, \n",
    "                        learning_rate=0.30, \n",
    "                        min_child_samples=60, \n",
    "                        verbosity = -1)\n",
    "    lgb.fit(xtrain, ytrain)\n",
    "    v_pred = lgb.predict(xvalid)\n",
    "    y_pred = lgb.predict(test.iloc[:,:-1])\n",
    "    vcm = confusion_matrix(yvalid,v_pred)\n",
    "    ycm = confusion_matrix(test[\"Class\"], y_pred)\n",
    "    fig , axes = plt.subplots(1,2)\n",
    "    fig1 = sns.heatmap(vcm, cmap=\"Blues\", linewidths=0.9, cbar=False, annot=True, fmt =\"d\",ax=axes[0])\n",
    "    fig2 = sns.heatmap(ycm, cmap=\"Blues\", linewidths=0.9, cbar=False, annot=True, fmt =\"d\",ax=axes[1])\n",
    "    fig1.set(xlabel=\"Predicted\", ylabel=\"Truth\")\n",
    "    fig1.set_title(\"Validation\")\n",
    "    fig2.set(xlabel=\"Predicted\", ylabel=\"Truth\")\n",
    "    fig2.set_title(\"Test\")\n",
    "    fig.suptitle(\"LightGBM\")\n",
    "    plt.tight_layout()"
   ]
  },
  {
   "cell_type": "markdown",
   "id": "1ba5d8e4-c85e-4685-aee0-a5ba703246b4",
   "metadata": {
    "tags": []
   },
   "source": [
    "### **Undersampling**"
   ]
  },
  {
   "cell_type": "code",
   "execution_count": 72,
   "id": "41961678-443b-43d6-be6d-2d1e8970f4eb",
   "metadata": {},
   "outputs": [
    {
     "name": "stdout",
     "output_type": "stream",
     "text": [
      "[LightGBM] [Warning] feature_fraction is set=0.9, colsample_bytree=1.0 will be ignored. Current value: feature_fraction=0.9\n"
     ]
    },
    {
     "data": {
      "image/png": "[encoded data removed]",
      "text/plain": [
       "<Figure size 432x288 with 2 Axes>"
      ]
     },
     "metadata": {
      "needs_background": "light"
     },
     "output_type": "display_data"
    }
   ],
   "source": [
    "train_under = pd.read_pickle(\"data/train_under.pickle\")\n",
    "lgbm_fit(train_under)"
   ]
  },
  {
   "cell_type": "markdown",
   "id": "d6ad3ba9-40fd-49c0-b0ae-723e457a2e58",
   "metadata": {
    "tags": []
   },
   "source": [
    "### **Bootstrap Sampling**"
   ]
  },
  {
   "cell_type": "code",
   "execution_count": 76,
   "id": "3b06243e-0e5b-4d47-9987-b3a851d156e2",
   "metadata": {},
   "outputs": [
    {
     "name": "stdout",
     "output_type": "stream",
     "text": [
      "[LightGBM] [Warning] feature_fraction is set=0.9, colsample_bytree=1.0 will be ignored. Current value: feature_fraction=0.9\n"
     ]
    },
    {
     "data": {
      "image/png": "[encoded data removed]",
      "text/plain": [
       "<Figure size 432x288 with 2 Axes>"
      ]
     },
     "metadata": {
      "needs_background": "light"
     },
     "output_type": "display_data"
    }
   ],
   "source": [
    "train_over = pd.read_pickle(\"data/train_over.pickle\")\n",
    "lgbm_fit(train_over)"
   ]
  },
  {
   "cell_type": "markdown",
   "id": "5d816260-ed5e-46b5-bc99-2a1f4d86e7c0",
   "metadata": {},
   "source": [
    "### **Oversampling with shrinkage**"
   ]
  },
  {
   "cell_type": "code",
   "execution_count": 73,
   "id": "47d982c7-64ad-46f0-ac23-528710e13cc8",
   "metadata": {},
   "outputs": [
    {
     "name": "stdout",
     "output_type": "stream",
     "text": [
      "[LightGBM] [Warning] feature_fraction is set=0.9, colsample_bytree=1.0 will be ignored. Current value: feature_fraction=0.9\n"
     ]
    },
    {
     "data": {
      "image/png": "[encoded data removed]",
      "text/plain": [
       "<Figure size 432x288 with 2 Axes>"
      ]
     },
     "metadata": {
      "needs_background": "light"
     },
     "output_type": "display_data"
    }
   ],
   "source": [
    "train_over_shrink = pd.read_pickle(\"data/train_over_shrink.pickle\")\n",
    "lgbm_fit(train_over_shrink)"
   ]
  },
  {
   "cell_type": "markdown",
   "id": "2fb60d61-10a1-4fea-8b7f-126ad30cf7ea",
   "metadata": {},
   "source": [
    "### **SMOTE**"
   ]
  },
  {
   "cell_type": "code",
   "execution_count": 74,
   "id": "89b6b744-7a4d-4871-85dd-a9cd7a182c57",
   "metadata": {},
   "outputs": [
    {
     "name": "stdout",
     "output_type": "stream",
     "text": [
      "[LightGBM] [Warning] feature_fraction is set=0.9, colsample_bytree=1.0 will be ignored. Current value: feature_fraction=0.9\n"
     ]
    },
    {
     "data": {
      "image/png": "[encoded data removed]",
      "text/plain": [
       "<Figure size 432x288 with 2 Axes>"
      ]
     },
     "metadata": {
      "needs_background": "light"
     },
     "output_type": "display_data"
    }
   ],
   "source": [
    "lgbm_fit(train_smote)"
   ]
  },
  {
   "cell_type": "markdown",
   "id": "0b61d874-7e31-4bfb-8fc3-f091116d73ed",
   "metadata": {},
   "source": [
    "### **ADASYN**"
   ]
  },
  {
   "cell_type": "code",
   "execution_count": 75,
   "id": "075771af-204d-4a87-88cb-4d2405ae4c17",
   "metadata": {},
   "outputs": [
    {
     "name": "stdout",
     "output_type": "stream",
     "text": [
      "[LightGBM] [Warning] feature_fraction is set=0.9, colsample_bytree=1.0 will be ignored. Current value: feature_fraction=0.9\n"
     ]
    },
    {
     "data": {
      "image/png": "[encoded data removed]",
      "text/plain": [
       "<Figure size 432x288 with 2 Axes>"
      ]
     },
     "metadata": {
      "needs_background": "light"
     },
     "output_type": "display_data"
    }
   ],
   "source": [
    "train_adasyn = pd.read_pickle(\"data/train_adasyn.pickle\")\n",
    "lgbm_fit(train_adasyn)"
   ]
  },
  {
   "cell_type": "markdown",
   "id": "785cbf9c-38f2-4057-a8af-f1ec389bf274",
   "metadata": {},
   "source": [
    "### **Save Model**"
   ]
  },
  {
   "cell_type": "code",
   "execution_count": null,
   "id": "4e414096-f579-4b68-883f-bf985583ecaa",
   "metadata": {},
   "outputs": [],
   "source": []
  }
 ],
 "metadata": {
  "kernelspec": {
   "display_name": "Python 3 (ipykernel)",
   "language": "python",
   "name": "python3"
  },
  "language_info": {
   "codemirror_mode": {
    "name": "ipython",
    "version": 3
   },
   "file_extension": ".py",
   "mimetype": "text/x-python",
   "name": "python",
   "nbconvert_exporter": "python",
   "pygments_lexer": "ipython3",
   "version": "3.9.11"
  }
 },
 "nbformat": 4,
 "nbformat_minor": 5
}
