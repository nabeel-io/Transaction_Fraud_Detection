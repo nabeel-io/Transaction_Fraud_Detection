{
 "cells": [
  {
   "cell_type": "code",
   "execution_count": 1,
   "id": "d2dfcaee-11e8-466b-857e-62fb53d0a943",
   "metadata": {},
   "outputs": [],
   "source": [
    "import numpy as np\n",
    "import pandas as pd\n",
    "import matplotlib.pyplot as plt\n",
    "import seaborn as sns"
   ]
  },
  {
   "cell_type": "markdown",
   "id": "3dbb10ed-c59d-4e88-a85a-e71ce5a61b2e",
   "metadata": {},
   "source": [
    "### **Import Training and Testing set**"
   ]
  },
  {
   "cell_type": "markdown",
   "id": "05daba50-c86e-4cf1-af27-f9485ee87a13",
   "metadata": {},
   "source": [
    "*We will use SMOTE balanced dataset for the purpose of tunning the hyperparameters* "
   ]
  },
  {
   "cell_type": "code",
   "execution_count": 2,
   "id": "5a6a8351-0a5b-4cd4-8ec1-ae2cbc6dc6e5",
   "metadata": {},
   "outputs": [],
   "source": [
    "train_smote = pd.read_pickle(\"data/train_smote.pickle\")\n",
    "test = pd.read_pickle(\"data/test.pickle\")"
   ]
  },
  {
   "cell_type": "markdown",
   "id": "41e6330f-1c1a-400e-89af-a4fc053d9191",
   "metadata": {},
   "source": [
    "### **Split Attributes and Target Class**"
   ]
  },
  {
   "cell_type": "code",
   "execution_count": 3,
   "id": "721e0df9-ef31-48b7-8ea6-f90756ced900",
   "metadata": {},
   "outputs": [],
   "source": [
    "x = train_smote.iloc[:, :-1]\n",
    "y = train_smote[\"Class\"]"
   ]
  },
  {
   "cell_type": "markdown",
   "id": "5070196a-c2ac-4969-afdc-9d32c52be5a0",
   "metadata": {},
   "source": [
    "### **Split training and validation set**"
   ]
  },
  {
   "cell_type": "code",
   "execution_count": 4,
   "id": "e8c23642-0cde-4672-b04b-c9dc02f11401",
   "metadata": {},
   "outputs": [],
   "source": [
    "from sklearn.model_selection import train_test_split\n",
    "xtrain, xvalid, ytrain, yvalid = train_test_split(x, y, test_size=0.25, stratify=y,random_state=123)"
   ]
  },
  {
   "cell_type": "markdown",
   "id": "eaa5ea23-30b4-4ba9-b639-288e970431bc",
   "metadata": {},
   "source": [
    "### **LightGBM**"
   ]
  },
  {
   "cell_type": "markdown",
   "id": "a497ebd5-8da1-428a-b1c4-9687610af24e",
   "metadata": {},
   "source": [
    "*It stands for `Light Gradient Boosting machine`. It gives faster training , low memory usage in comparison to other frameworks. \n",
    "LightGBM use leaf wise tree growth rather than level wise growth.*"
   ]
  },
  {
   "cell_type": "code",
   "execution_count": 5,
   "id": "9856a10d-49ee-4835-ae11-6933b34e40cd",
   "metadata": {},
   "outputs": [],
   "source": [
    "import lightgbm\n",
    "from lightgbm import LGBMClassifier\n",
    "from sklearn.metrics import roc_auc_score"
   ]
  },
  {
   "cell_type": "markdown",
   "id": "28965017-cc0e-4067-b084-c6762eb3d7f8",
   "metadata": {},
   "source": [
    "### **Tunning Hyperparameter**"
   ]
  },
  {
   "cell_type": "markdown",
   "id": "1ff07a31-0614-497f-8fa0-37a3446713f5",
   "metadata": {},
   "source": [
    "*Following hyperparameters are needed to be tuned using optuna.*\n",
    "1. max_depth\n",
    "2. subsample\n",
    "3. learning_rate"
   ]
  },
  {
   "cell_type": "code",
   "execution_count": 6,
   "id": "c95fbea8-7ad9-4719-8121-cf1e7e227227",
   "metadata": {},
   "outputs": [],
   "source": [
    "def optimize(trial):\n",
    "    params = {\n",
    "        \"objective\": \"binary\",\n",
    "        \"metric\": \"auc\",\n",
    "        \"max_depth\": trial.suggest_int(\"max_depth\", 3, 50),\n",
    "        \"sub_sample\":trial.suggest_float(\"subsample\", 0.5, 1.0),\n",
    "        \"learning_rate\": trial.suggest_float(\"learning_rate\", 0.01, 1.0),\n",
    "        \"num_threads\": -1,\n",
    "        \"verbosity\":-1      # to remove unnecessary warnings \n",
    "    }\n",
    "    lgbm_train = lightgbm.Dataset(xtrain.to_numpy(), ytrain.to_numpy())\n",
    "    model_lgbm = lightgbm.train(params, lgbm_train)\n",
    "    pred_prob = model_lgbm.predict(xvalid.to_numpy())\n",
    "    v_pred = []\n",
    "    for prob in pred_prob:\n",
    "        if prob >=0.5:\n",
    "            v_pred.append(1)\n",
    "        else:\n",
    "            v_pred.append(0)\n",
    "    v_pred = np.array(v_pred)\n",
    "    auc = roc_auc_score(yvalid.to_numpy(), v_pred)\n",
    "    return auc"
   ]
  },
  {
   "cell_type": "code",
   "execution_count": 7,
   "id": "44cb1b64-d536-4008-87c6-5e02afd3e594",
   "metadata": {},
   "outputs": [
    {
     "name": "stderr",
     "output_type": "stream",
     "text": [
      "\u001b[32m[I 2022-07-31 11:27:13,904]\u001b[0m A new study created in memory with name: no-name-9b461ca5-1e9e-4615-beaa-2a3b64356dda\u001b[0m\n",
      "\u001b[32m[I 2022-07-31 11:27:15,442]\u001b[0m Trial 0 finished with value: 0.9870755431434021 and parameters: {'num_leaves': 7, 'feature_fraction': 0.9431896386906726, 'learning_rate': 0.9276252769044933}. Best is trial 0 with value: 0.9870755431434021.\u001b[0m\n",
      "\u001b[32m[I 2022-07-31 11:27:16,317]\u001b[0m Trial 1 finished with value: 0.9950822127405233 and parameters: {'num_leaves': 3, 'feature_fraction': 0.9752774612606774, 'learning_rate': 0.20122040829606827}. Best is trial 1 with value: 0.9950822127405233.\u001b[0m\n",
      "\u001b[32m[I 2022-07-31 11:27:17,267]\u001b[0m Trial 2 finished with value: 0.965828786024967 and parameters: {'num_leaves': 4, 'feature_fraction': 0.6640382240061289, 'learning_rate': 0.01686340625558295}. Best is trial 1 with value: 0.9950822127405233.\u001b[0m\n",
      "\u001b[32m[I 2022-07-31 11:27:18,507]\u001b[0m Trial 3 finished with value: 0.9856248754143111 and parameters: {'num_leaves': 8, 'feature_fraction': 0.8630045621786986, 'learning_rate': 0.9282676475925775}. Best is trial 1 with value: 0.9950822127405233.\u001b[0m\n",
      "\u001b[32m[I 2022-07-31 11:27:19,767]\u001b[0m Trial 4 finished with value: 0.9853466545443192 and parameters: {'num_leaves': 37, 'feature_fraction': 0.9661032251388111, 'learning_rate': 0.9831235680506536}. Best is trial 1 with value: 0.9950822127405233.\u001b[0m\n",
      "\u001b[32m[I 2022-07-31 11:27:21,175]\u001b[0m Trial 5 finished with value: 0.9803694851223254 and parameters: {'num_leaves': 38, 'feature_fraction': 0.9282180599645801, 'learning_rate': 0.8649009503655981}. Best is trial 1 with value: 0.9950822127405233.\u001b[0m\n",
      "\u001b[32m[I 2022-07-31 11:27:22,034]\u001b[0m Trial 6 finished with value: 0.9665009331066293 and parameters: {'num_leaves': 3, 'feature_fraction': 0.7941671863567066, 'learning_rate': 0.03435818289455047}. Best is trial 1 with value: 0.9950822127405233.\u001b[0m\n",
      "\u001b[32m[I 2022-07-31 11:27:23,211]\u001b[0m Trial 7 finished with value: 0.9949758989938333 and parameters: {'num_leaves': 24, 'feature_fraction': 0.6509218580219982, 'learning_rate': 0.7025886018596303}. Best is trial 1 with value: 0.9950822127405233.\u001b[0m\n",
      "\u001b[32m[I 2022-07-31 11:27:24,685]\u001b[0m Trial 8 finished with value: 0.9966735203962882 and parameters: {'num_leaves': 32, 'feature_fraction': 0.7348550017938704, 'learning_rate': 0.2671644004167086}. Best is trial 8 with value: 0.9966735203962882.\u001b[0m\n",
      "\u001b[32m[I 2022-07-31 11:27:26,038]\u001b[0m Trial 9 finished with value: 0.9855498640519416 and parameters: {'num_leaves': 21, 'feature_fraction': 0.901214106679647, 'learning_rate': 0.9245467205467149}. Best is trial 8 with value: 0.9966735203962882.\u001b[0m\n",
      "\u001b[32m[I 2022-07-31 11:27:27,362]\u001b[0m Trial 10 finished with value: 0.9910460566222722 and parameters: {'num_leaves': 46, 'feature_fraction': 0.517792840501494, 'learning_rate': 0.41467940992946595}. Best is trial 8 with value: 0.9966735203962882.\u001b[0m\n",
      "\u001b[32m[I 2022-07-31 11:27:28,902]\u001b[0m Trial 11 finished with value: 0.9928843496203237 and parameters: {'num_leaves': 17, 'feature_fraction': 0.7340315011359626, 'learning_rate': 0.2826582811401073}. Best is trial 8 with value: 0.9966735203962882.\u001b[0m\n",
      "\u001b[32m[I 2022-07-31 11:27:30,470]\u001b[0m Trial 12 finished with value: 0.9934689942954266 and parameters: {'num_leaves': 32, 'feature_fraction': 0.7975962233081747, 'learning_rate': 0.24418275008038293}. Best is trial 8 with value: 0.9966735203962882.\u001b[0m\n",
      "\u001b[32m[I 2022-07-31 11:27:31,937]\u001b[0m Trial 13 finished with value: 0.9994028590025534 and parameters: {'num_leaves': 15, 'feature_fraction': 0.6796910330806063, 'learning_rate': 0.2193987701620706}. Best is trial 13 with value: 0.9994028590025534.\u001b[0m\n",
      "\u001b[32m[I 2022-07-31 11:27:33,086]\u001b[0m Trial 14 finished with value: 0.9963671370570233 and parameters: {'num_leaves': 15, 'feature_fraction': 0.6035687286267862, 'learning_rate': 0.5025165768323886}. Best is trial 13 with value: 0.9994028590025534.\u001b[0m\n",
      "\u001b[32m[I 2022-07-31 11:27:34,442]\u001b[0m Trial 15 finished with value: 0.9966297586367008 and parameters: {'num_leaves': 30, 'feature_fraction': 0.7089493238317912, 'learning_rate': 0.33032575927245594}. Best is trial 13 with value: 0.9994028590025534.\u001b[0m\n",
      "\u001b[32m[I 2022-07-31 11:27:36,098]\u001b[0m Trial 16 finished with value: 0.997952215904847 and parameters: {'num_leaves': 13, 'feature_fraction': 0.5746643915630124, 'learning_rate': 0.14292771905627183}. Best is trial 13 with value: 0.9994028590025534.\u001b[0m\n",
      "\u001b[32m[I 2022-07-31 11:27:38,100]\u001b[0m Trial 17 finished with value: 0.9998249212927277 and parameters: {'num_leaves': 14, 'feature_fraction': 0.5252438356229424, 'learning_rate': 0.11545619502249042}. Best is trial 17 with value: 0.9998249212927277.\u001b[0m\n",
      "\u001b[32m[I 2022-07-31 11:27:39,816]\u001b[0m Trial 18 finished with value: 0.9997123717005583 and parameters: {'num_leaves': 11, 'feature_fraction': 0.5231908480220978, 'learning_rate': 0.10849507551783065}. Best is trial 17 with value: 0.9998249212927277.\u001b[0m\n",
      "\u001b[32m[I 2022-07-31 11:27:41,469]\u001b[0m Trial 19 finished with value: 0.9918620187333479 and parameters: {'num_leaves': 11, 'feature_fraction': 0.5066100440403116, 'learning_rate': 0.6590213761259572}. Best is trial 17 with value: 0.9998249212927277.\u001b[0m\n",
      "\u001b[32m[I 2022-07-31 11:27:43,355]\u001b[0m Trial 20 finished with value: 0.9980178796568431 and parameters: {'num_leaves': 21, 'feature_fraction': 0.5979850977646973, 'learning_rate': 0.12457364678719675}. Best is trial 17 with value: 0.9998249212927277.\u001b[0m\n",
      "\u001b[32m[I 2022-07-31 11:27:45,108]\u001b[0m Trial 21 finished with value: 0.9997248768198248 and parameters: {'num_leaves': 19, 'feature_fraction': 0.5518460220654414, 'learning_rate': 0.11211136058465533}. Best is trial 17 with value: 0.9998249212927277.\u001b[0m\n",
      "\u001b[32m[I 2022-07-31 11:27:47,009]\u001b[0m Trial 22 finished with value: 0.9998030368941648 and parameters: {'num_leaves': 20, 'feature_fraction': 0.5504464640563179, 'learning_rate': 0.13157885075844464}. Best is trial 17 with value: 0.9998249212927277.\u001b[0m\n",
      "\u001b[32m[I 2022-07-31 11:27:48,531]\u001b[0m Trial 23 finished with value: 0.9963046114606897 and parameters: {'num_leaves': 19, 'feature_fraction': 0.5605556511766913, 'learning_rate': 0.36697872064980364}. Best is trial 17 with value: 0.9998249212927277.\u001b[0m\n",
      "\u001b[32m[I 2022-07-31 11:27:50,281]\u001b[0m Trial 24 finished with value: 0.9991527495796809 and parameters: {'num_leaves': 26, 'feature_fraction': 0.6251487240415785, 'learning_rate': 0.07185842239942053}. Best is trial 17 with value: 0.9998249212927277.\u001b[0m\n",
      "\u001b[32m[I 2022-07-31 11:27:52,092]\u001b[0m Trial 25 finished with value: 0.9998843228084754 and parameters: {'num_leaves': 23, 'feature_fraction': 0.5533531698479193, 'learning_rate': 0.14833278522339602}. Best is trial 25 with value: 0.9998843228084754.\u001b[0m\n",
      "\u001b[32m[I 2022-07-31 11:27:54,189]\u001b[0m Trial 26 finished with value: 0.9952947927305188 and parameters: {'num_leaves': 24, 'feature_fraction': 0.5458934887240421, 'learning_rate': 0.46111453584114315}. Best is trial 25 with value: 0.9998843228084754.\u001b[0m\n",
      "\u001b[32m[I 2022-07-31 11:27:56,061]\u001b[0m Trial 27 finished with value: 0.9997780248962468 and parameters: {'num_leaves': 28, 'feature_fraction': 0.6096900683775692, 'learning_rate': 0.1626897251021977}. Best is trial 25 with value: 0.9998843228084754.\u001b[0m\n",
      "\u001b[32m[I 2022-07-31 11:27:57,519]\u001b[0m Trial 28 finished with value: 0.9926529917185051 and parameters: {'num_leaves': 24, 'feature_fraction': 0.5012773930977821, 'learning_rate': 0.6657204868552852}. Best is trial 25 with value: 0.9998843228084754.\u001b[0m\n",
      "\u001b[32m[I 2022-07-31 11:27:58,948]\u001b[0m Trial 29 finished with value: 0.9936940899609964 and parameters: {'num_leaves': 8, 'feature_fraction': 0.583398279929389, 'learning_rate': 0.5661485856213371}. Best is trial 25 with value: 0.9998843228084754.\u001b[0m\n"
     ]
    }
   ],
   "source": [
    "import optuna\n",
    "study = optuna.create_study(direction=\"maximize\")\n",
    "study.optimize(optimize,n_trials=30)"
   ]
  },
  {
   "cell_type": "markdown",
   "id": "1eab56dd-8938-4c34-aeb9-0d0b0299f068",
   "metadata": {
    "tags": []
   },
   "source": [
    "### **Fitting model**"
   ]
  },
  {
   "cell_type": "markdown",
   "id": "9d0973a1-6134-45fe-9337-5b98c8e93540",
   "metadata": {},
   "source": [
    "*We implement function that fits the data with specific hyperparameters to the LightGBM model and then \n",
    "prints the precision recall for target classes in test set with the confusion matrix of validation and \n",
    "test set*"
   ]
  },
  {
   "cell_type": "code",
   "execution_count": 8,
   "id": "891e976b-6ea1-4ec1-849f-e72b24769c9d",
   "metadata": {},
   "outputs": [],
   "source": [
    "from sklearn.metrics import classification_report, confusion_matrix"
   ]
  },
  {
   "cell_type": "code",
   "execution_count": 62,
   "id": "65e520f3-2f24-466e-afc2-9c1cdf2c5b6e",
   "metadata": {},
   "outputs": [],
   "source": [
    "def lgbm_fit(train_set):\n",
    "    xtrain, xvalid, ytrain, yvalid = train_test_split(train_set.iloc[:,:-1].to_numpy(), \n",
    "                                                      train_set[\"Class\"].to_numpy(), test_size=0.25, random_state=123)\n",
    "    lgb = LGBMClassifier(objective=\"binary\",\n",
    "                        metric=\"auc\",\n",
    "                        max_depth=15, \n",
    "                        subsample=0.5, \n",
    "                        learning_rate=0.1, \n",
    "                        verbosity = -1)\n",
    "    lgb.fit(xtrain, ytrain)\n",
    "    v_pred = lgb.predict(xvalid)\n",
    "    y_pred = lgb.predict(test.iloc[:,:-1])\n",
    "    vcm = confusion_matrix(yvalid,v_pred)\n",
    "    ycm = confusion_matrix(test[\"Class\"], y_pred)\n",
    "    fig , axes = plt.subplots(1,2)\n",
    "    fig1 = sns.heatmap(vcm, cmap=\"Blues\", linewidths=0.9, cbar=False, annot=True, fmt =\"d\",ax=axes[0])\n",
    "    fig2 = sns.heatmap(ycm, cmap=\"Blues\", linewidths=0.9, cbar=False, annot=True, fmt =\"d\",ax=axes[1])\n",
    "    fig1.set(xlabel=\"Predicted\", ylabel=\"Truth\")\n",
    "    fig1.set_title(\"Validation\")\n",
    "    fig2.set(xlabel=\"Predicted\", ylabel=\"Truth\")\n",
    "    fig2.set_title(\"Test\")\n",
    "    fig.suptitle(\"LightGBM\")\n",
    "    plt.tight_layout()"
   ]
  },
  {
   "cell_type": "markdown",
   "id": "1ba5d8e4-c85e-4685-aee0-a5ba703246b4",
   "metadata": {
    "tags": []
   },
   "source": [
    "### **Undersampling**"
   ]
  },
  {
   "cell_type": "code",
   "execution_count": 63,
   "id": "41961678-443b-43d6-be6d-2d1e8970f4eb",
   "metadata": {},
   "outputs": [
    {
     "data": {
      "image/png": "[encoded data removed]",
      "text/plain": [
       "<Figure size 432x288 with 2 Axes>"
      ]
     },
     "metadata": {
      "needs_background": "light"
     },
     "output_type": "display_data"
    }
   ],
   "source": [
    "train_under = pd.read_pickle(\"data/train_under.pickle\")\n",
    "lgbm_fit(train_under)"
   ]
  },
  {
   "cell_type": "markdown",
   "id": "d6ad3ba9-40fd-49c0-b0ae-723e457a2e58",
   "metadata": {
    "tags": []
   },
   "source": [
    "### **Bootstrap Sampling**"
   ]
  },
  {
   "cell_type": "code",
   "execution_count": 64,
   "id": "3b06243e-0e5b-4d47-9987-b3a851d156e2",
   "metadata": {},
   "outputs": [
    {
     "data": {
      "image/png": "[encoded data removed]",
      "text/plain": [
       "<Figure size 432x288 with 2 Axes>"
      ]
     },
     "metadata": {
      "needs_background": "light"
     },
     "output_type": "display_data"
    }
   ],
   "source": [
    "train_over = pd.read_pickle(\"data/train_over.pickle\")\n",
    "lgbm_fit(train_over)"
   ]
  },
  {
   "cell_type": "markdown",
   "id": "5d816260-ed5e-46b5-bc99-2a1f4d86e7c0",
   "metadata": {},
   "source": [
    "### **Oversampling with shrinkage**"
   ]
  },
  {
   "cell_type": "code",
   "execution_count": 65,
   "id": "47d982c7-64ad-46f0-ac23-528710e13cc8",
   "metadata": {},
   "outputs": [
    {
     "data": {
      "image/png": "[encoded data removed]",
      "text/plain": [
       "<Figure size 432x288 with 2 Axes>"
      ]
     },
     "metadata": {
      "needs_background": "light"
     },
     "output_type": "display_data"
    }
   ],
   "source": [
    "train_over_shrink = pd.read_pickle(\"data/train_over_shrink.pickle\")\n",
    "lgbm_fit(train_over_shrink)"
   ]
  },
  {
   "cell_type": "markdown",
   "id": "2fb60d61-10a1-4fea-8b7f-126ad30cf7ea",
   "metadata": {},
   "source": [
    "### **SMOTE**"
   ]
  },
  {
   "cell_type": "code",
   "execution_count": 66,
   "id": "89b6b744-7a4d-4871-85dd-a9cd7a182c57",
   "metadata": {},
   "outputs": [
    {
     "data": {
      "image/png": "[encoded data removed]",
      "text/plain": [
       "<Figure size 432x288 with 2 Axes>"
      ]
     },
     "metadata": {
      "needs_background": "light"
     },
     "output_type": "display_data"
    }
   ],
   "source": [
    "lgbm_fit(train_smote)"
   ]
  },
  {
   "cell_type": "markdown",
   "id": "0b61d874-7e31-4bfb-8fc3-f091116d73ed",
   "metadata": {},
   "source": [
    "### **ADASYN**"
   ]
  },
  {
   "cell_type": "code",
   "execution_count": 67,
   "id": "075771af-204d-4a87-88cb-4d2405ae4c17",
   "metadata": {},
   "outputs": [
    {
     "data": {
      "image/png": "[encoded data removed]",
      "text/plain": [
       "<Figure size 432x288 with 2 Axes>"
      ]
     },
     "metadata": {
      "needs_background": "light"
     },
     "output_type": "display_data"
    }
   ],
   "source": [
    "train_adasyn = pd.read_pickle(\"data/train_adasyn.pickle\")\n",
    "lgbm_fit(train_adasyn)"
   ]
  },
  {
   "cell_type": "markdown",
   "id": "785cbf9c-38f2-4057-a8af-f1ec389bf274",
   "metadata": {},
   "source": [
    "### **Save Model**"
   ]
  },
  {
   "cell_type": "code",
   "execution_count": 68,
   "id": "77a946c2-c4d7-49bc-9241-048a671d722a",
   "metadata": {},
   "outputs": [
    {
     "data": {
      "text/html": [
       "<style>#sk-container-id-5 {color: black;background-color: white;}#sk-container-id-5 pre{padding: 0;}#sk-container-id-5 div.sk-toggleable {background-color: white;}#sk-container-id-5 label.sk-toggleable__label {cursor: pointer;display: block;width: 100%;margin-bottom: 0;padding: 0.3em;box-sizing: border-box;text-align: center;}#sk-container-id-5 label.sk-toggleable__label-arrow:before {content: \"▸\";float: left;margin-right: 0.25em;color: #696969;}#sk-container-id-5 label.sk-toggleable__label-arrow:hover:before {color: black;}#sk-container-id-5 div.sk-estimator:hover label.sk-toggleable__label-arrow:before {color: black;}#sk-container-id-5 div.sk-toggleable__content {max-height: 0;max-width: 0;overflow: hidden;text-align: left;background-color: #f0f8ff;}#sk-container-id-5 div.sk-toggleable__content pre {margin: 0.2em;color: black;border-radius: 0.25em;background-color: #f0f8ff;}#sk-container-id-5 input.sk-toggleable__control:checked~div.sk-toggleable__content {max-height: 200px;max-width: 100%;overflow: auto;}#sk-container-id-5 input.sk-toggleable__control:checked~label.sk-toggleable__label-arrow:before {content: \"▾\";}#sk-container-id-5 div.sk-estimator input.sk-toggleable__control:checked~label.sk-toggleable__label {background-color: #d4ebff;}#sk-container-id-5 div.sk-label input.sk-toggleable__control:checked~label.sk-toggleable__label {background-color: #d4ebff;}#sk-container-id-5 input.sk-hidden--visually {border: 0;clip: rect(1px 1px 1px 1px);clip: rect(1px, 1px, 1px, 1px);height: 1px;margin: -1px;overflow: hidden;padding: 0;position: absolute;width: 1px;}#sk-container-id-5 div.sk-estimator {font-family: monospace;background-color: #f0f8ff;border: 1px dotted black;border-radius: 0.25em;box-sizing: border-box;margin-bottom: 0.5em;}#sk-container-id-5 div.sk-estimator:hover {background-color: #d4ebff;}#sk-container-id-5 div.sk-parallel-item::after {content: \"\";width: 100%;border-bottom: 1px solid gray;flex-grow: 1;}#sk-container-id-5 div.sk-label:hover label.sk-toggleable__label {background-color: #d4ebff;}#sk-container-id-5 div.sk-serial::before {content: \"\";position: absolute;border-left: 1px solid gray;box-sizing: border-box;top: 0;bottom: 0;left: 50%;z-index: 0;}#sk-container-id-5 div.sk-serial {display: flex;flex-direction: column;align-items: center;background-color: white;padding-right: 0.2em;padding-left: 0.2em;position: relative;}#sk-container-id-5 div.sk-item {position: relative;z-index: 1;}#sk-container-id-5 div.sk-parallel {display: flex;align-items: stretch;justify-content: center;background-color: white;position: relative;}#sk-container-id-5 div.sk-item::before, #sk-container-id-5 div.sk-parallel-item::before {content: \"\";position: absolute;border-left: 1px solid gray;box-sizing: border-box;top: 0;bottom: 0;left: 50%;z-index: -1;}#sk-container-id-5 div.sk-parallel-item {display: flex;flex-direction: column;z-index: 1;position: relative;background-color: white;}#sk-container-id-5 div.sk-parallel-item:first-child::after {align-self: flex-end;width: 50%;}#sk-container-id-5 div.sk-parallel-item:last-child::after {align-self: flex-start;width: 50%;}#sk-container-id-5 div.sk-parallel-item:only-child::after {width: 0;}#sk-container-id-5 div.sk-dashed-wrapped {border: 1px dashed gray;margin: 0 0.4em 0.5em 0.4em;box-sizing: border-box;padding-bottom: 0.4em;background-color: white;}#sk-container-id-5 div.sk-label label {font-family: monospace;font-weight: bold;display: inline-block;line-height: 1.2em;}#sk-container-id-5 div.sk-label-container {text-align: center;}#sk-container-id-5 div.sk-container {/* jupyter's `normalize.less` sets `[hidden] { display: none; }` but bootstrap.min.css set `[hidden] { display: none !important; }` so we also need the `!important` here to be able to override the default hidden behavior on the sphinx rendered scikit-learn.org. See: https://github.com/scikit-learn/scikit-learn/issues/21755 */display: inline-block !important;position: relative;}#sk-container-id-5 div.sk-text-repr-fallback {display: none;}</style><div id=\"sk-container-id-5\" class=\"sk-top-container\"><div class=\"sk-text-repr-fallback\"><pre>LGBMClassifier(max_depth=14, metric=&#x27;auc&#x27;, objective=&#x27;binary&#x27;, subsample=0.5,\n",
       "               verbosity=-1)</pre><b>In a Jupyter environment, please rerun this cell to show the HTML representation or trust the notebook. <br />On GitHub, the HTML representation is unable to render, please try loading this page with nbviewer.org.</b></div><div class=\"sk-container\" hidden><div class=\"sk-item\"><div class=\"sk-estimator sk-toggleable\"><input class=\"sk-toggleable__control sk-hidden--visually\" id=\"sk-estimator-id-5\" type=\"checkbox\" checked><label for=\"sk-estimator-id-5\" class=\"sk-toggleable__label sk-toggleable__label-arrow\">LGBMClassifier</label><div class=\"sk-toggleable__content\"><pre>LGBMClassifier(max_depth=14, metric=&#x27;auc&#x27;, objective=&#x27;binary&#x27;, subsample=0.5,\n",
       "               verbosity=-1)</pre></div></div></div></div></div>"
      ],
      "text/plain": [
       "LGBMClassifier(max_depth=14, metric='auc', objective='binary', subsample=0.5,\n",
       "               verbosity=-1)"
      ]
     },
     "execution_count": 68,
     "metadata": {},
     "output_type": "execute_result"
    }
   ],
   "source": [
    "xtrain = train_over_shrink.iloc[:, :-1].to_numpy()\n",
    "ytrain = train_over_shrink[\"Class\"].to_numpy()\n",
    "\n",
    "lgb = LGBMClassifier(objective=\"binary\",\n",
    "                        metric=\"auc\",\n",
    "                        max_depth=14, \n",
    "                        subsample=0.5, \n",
    "                        learning_rate=0.1, \n",
    "                        verbosity = -1)\n",
    "lgb.fit(xtrain, ytrain)"
   ]
  },
  {
   "cell_type": "code",
   "execution_count": 69,
   "id": "4e414096-f579-4b68-883f-bf985583ecaa",
   "metadata": {},
   "outputs": [
    {
     "data": {
      "text/plain": [
       "['models/lgb.pkl']"
      ]
     },
     "execution_count": 69,
     "metadata": {},
     "output_type": "execute_result"
    }
   ],
   "source": [
    "import joblib\n",
    "joblib.dump(lgb, \"models/lgb.pkl\")"
   ]
  }
 ],
 "metadata": {
  "kernelspec": {
   "display_name": "Python 3 (ipykernel)",
   "language": "python",
   "name": "python3"
  },
  "language_info": {
   "codemirror_mode": {
    "name": "ipython",
    "version": 3
   },
   "file_extension": ".py",
   "mimetype": "text/x-python",
   "name": "python",
   "nbconvert_exporter": "python",
   "pygments_lexer": "ipython3",
   "version": "3.9.11"
  }
 },
 "nbformat": 4,
 "nbformat_minor": 5
}
