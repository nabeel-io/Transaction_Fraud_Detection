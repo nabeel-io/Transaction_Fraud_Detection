{
 "cells": [
  {
   "cell_type": "markdown",
   "id": "b39bd8a7-f4df-444c-8c45-c6b830616d3b",
   "metadata": {},
   "source": [
    "## **Balanced Data**"
   ]
  },
  {
   "cell_type": "markdown",
   "id": "4fbf005b-dc2e-42b4-b25b-e412eb0fb87b",
   "metadata": {},
   "source": [
    "*The data is highly imbalanced which creates preoblem for machine learning algorithms to train data with few instances of one target class and two many instances of other target class.*\n",
    "\n",
    "*To solve this problem of under representation of other classes we need to balance the data in order to make Machine Learning algorithms gernalize well. In this project we use `imblearn` library to balance the data.*\n",
    "\n",
    "*To balance the data either we need to reduce the size of majority class or increase the size of minority class using synthetic data.*"
   ]
  },
  {
   "cell_type": "markdown",
   "id": "8083b743-66a1-49c8-83a0-b2f307cad5c1",
   "metadata": {},
   "source": [
    "### **Methods of sampling**"
   ]
  },
  {
   "cell_type": "markdown",
   "id": "5bece877-c3e6-43b1-883e-58b71a7924ec",
   "metadata": {},
   "source": [
    "1. Undersmapling\n",
    "2. Oversampling"
   ]
  },
  {
   "cell_type": "markdown",
   "id": "f1a22990-5fe2-47df-945a-7dcbeee2b202",
   "metadata": {},
   "source": [
    "### **Importing basic libraries**"
   ]
  },
  {
   "cell_type": "code",
   "execution_count": 3,
   "id": "2b1adde1-011f-4fab-9887-9103cd1abef5",
   "metadata": {},
   "outputs": [],
   "source": [
    "import imblearn\n",
    "import pandas as pd\n",
    "import numpy"
   ]
  },
  {
   "cell_type": "markdown",
   "id": "749c0398-b411-4445-9cfe-0612ce7c634e",
   "metadata": {},
   "source": [
    "### **Importing train set** "
   ]
  },
  {
   "cell_type": "code",
   "execution_count": 4,
   "id": "b9f25589-426e-4b8a-a57b-b3ac2427875f",
   "metadata": {},
   "outputs": [],
   "source": [
    "train = pd.read_pickle(\"data/train.pickle\")"
   ]
  },
  {
   "cell_type": "markdown",
   "id": "bcd50c4a-a77e-442d-bc76-89e40374eb70",
   "metadata": {},
   "source": [
    "### **Undersample**\n",
    "\n",
    "*Under this method we dicard instances of majority class so that our minority class hve significant number of instances in comparison to majority class. We use just 1% of majority class in undersampling*"
   ]
  },
  {
   "cell_type": "code",
   "execution_count": 5,
   "id": "1a0e7a65-a37b-4d9f-8bf5-9c088ecc785c",
   "metadata": {},
   "outputs": [],
   "source": [
    "from imblearn.under_sampling import RandomUnderSampler\n",
    "under = RandomUnderSampler(sampling_strategy=0.1, random_state=123)\n",
    "x, y = under.fit_resample(train.iloc[:,:-1], train[\"Class\"])\n",
    "train_under = pd.concat([x,y], axis=1)\n",
    "train_under.to_pickle(\"data/train_under.pickle\")"
   ]
  },
  {
   "cell_type": "markdown",
   "id": "2bb37839-8805-4833-b993-a97b437fb1ee",
   "metadata": {
    "tags": []
   },
   "source": [
    "### **Oversampling**\n",
    "\n",
    "*In oversampling synthetic data is generated in order to balance the data set. In our project we have implemented four methods of oversampling*\n",
    "\n",
    "1. Bootstrap oversampling\n",
    "2. Oversampling with shrinkage\n",
    "3. SMOTE\n",
    "4. ADASYN"
   ]
  },
  {
   "cell_type": "markdown",
   "id": "f5afd65d-80e7-469c-995b-71d8b71724ae",
   "metadata": {},
   "source": [
    "#### **Bootstrap Sampling**\n",
    "\n",
    "*Using bootstrap sampling method we repeat the samples from the minority class in order to balance the data* "
   ]
  },
  {
   "cell_type": "code",
   "execution_count": 7,
   "id": "2a649d89-1854-442f-aba6-caaa2254c8b8",
   "metadata": {},
   "outputs": [],
   "source": [
    "from imblearn.over_sampling import RandomOverSampler\n",
    "over = RandomOverSampler(sampling_strategy=0.3, random_state=123)\n",
    "x, y = over.fit_resample(train.iloc[:,:-1], train[\"Class\"])\n",
    "train_over = pd.concat([x,y], axis=1)\n",
    "train_over.to_pickle(\"data/train_over.pickle\")"
   ]
  },
  {
   "cell_type": "markdown",
   "id": "18ee09e7-59d9-49c9-a8f1-b6834cf38681",
   "metadata": {},
   "source": [
    "#### **Oversampling with shrinkage**\n",
    "\n",
    "*Using shrinkage we generate a cluster of synthetic data around the already existing minority \n",
    "class to generate a smoothed bootstrap instead*"
   ]
  },
  {
   "cell_type": "code",
   "execution_count": 11,
   "id": "05787721-ca22-4c52-9539-e19b4d6f02b9",
   "metadata": {},
   "outputs": [],
   "source": [
    "over_shrink = RandomOverSampler(shrinkage=0.3, sampling_strategy=0.3, random_state=123)\n",
    "x,y = over_shrink.fit_resample(train.iloc[:,:-1], train[\"Class\"])\n",
    "train_over_shrink = pd.concat([x,y], axis=1)\n",
    "train_over_shrink.to_pickle(\"data/train_over_shrink.pickle\")"
   ]
  },
  {
   "cell_type": "markdown",
   "id": "20303427-4925-44b7-91d1-e6259c77ad46",
   "metadata": {},
   "source": [
    "#### **SMOTE**\n",
    "\n",
    "*SMOTE stands for Synthetic Minority Over Sampling Technique. Under this method the minority \n",
    "instances connects themselve along a straight line with other instances from same minority class and \n",
    "generate synthetic data along these lines* "
   ]
  },
  {
   "cell_type": "code",
   "execution_count": 12,
   "id": "82b808ff-5b23-4d8f-9b65-162732285ede",
   "metadata": {},
   "outputs": [],
   "source": [
    "from imblearn.over_sampling import SMOTE\n",
    "smote = SMOTE(sampling_strategy=0.3, random_state=123)\n",
    "x,y = smote.fit_resample(train.iloc[:,:-1], train[\"Class\"])\n",
    "train_smote = pd.concat([x,y], axis=1)\n",
    "train_smote.to_pickle(\"data/train_smote.pickle\")"
   ]
  },
  {
   "cell_type": "markdown",
   "id": "affcb935-3826-4662-9094-2f60f66ad72e",
   "metadata": {},
   "source": [
    "#### **ADASYN**\n",
    "\n",
    "*ADASYN stands for ADaptive SYNthetic algorithm. This method works in a similar \n",
    "way as that of SMOTE but it generates data using the total distribution of minority class* "
   ]
  },
  {
   "cell_type": "code",
   "execution_count": 13,
   "id": "385cdfec-95a9-4666-acfc-786ce44da3cd",
   "metadata": {},
   "outputs": [],
   "source": [
    "from imblearn.over_sampling import ADASYN\n",
    "adasyn = ADASYN(sampling_strategy=0.3, random_state=123)\n",
    "x,y = adasyn.fit_resample(train.iloc[:,:-1], train[\"Class\"])\n",
    "train_adasyn = pd.concat([x,y], axis=1)\n",
    "train_adasyn.to_pickle(\"data/train_adasyn.pickle\")"
   ]
  },
  {
   "cell_type": "code",
   "execution_count": null,
   "id": "888898fd-04e4-4923-94c4-aa516efd264d",
   "metadata": {},
   "outputs": [],
   "source": []
  }
 ],
 "metadata": {
  "kernelspec": {
   "display_name": "Python 3 (ipykernel)",
   "language": "python",
   "name": "python3"
  },
  "language_info": {
   "codemirror_mode": {
    "name": "ipython",
    "version": 3
   },
   "file_extension": ".py",
   "mimetype": "text/x-python",
   "name": "python",
   "nbconvert_exporter": "python",
   "pygments_lexer": "ipython3",
   "version": "3.9.11"
  }
 },
 "nbformat": 4,
 "nbformat_minor": 5
}
