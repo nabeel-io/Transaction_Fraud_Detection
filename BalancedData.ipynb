{
 "cells": [
  {
   "cell_type": "code",
   "execution_count": 1,
   "id": "3462f550-846d-4009-a124-31f85976689c",
   "metadata": {},
   "outputs": [],
   "source": [
    "# Balancing Data"
   ]
  },
  {
   "cell_type": "code",
   "execution_count": 2,
   "id": "c2335647-6159-4e65-b5c3-11a9efafa78d",
   "metadata": {},
   "outputs": [],
   "source": [
    "#1.undersmapling\n",
    "#2.over sampling\n",
    "#3.over sampling with shrinkage\n",
    "#4.smote\n",
    "#5.adasyn"
   ]
  },
  {
   "cell_type": "code",
   "execution_count": 3,
   "id": "2b1adde1-011f-4fab-9887-9103cd1abef5",
   "metadata": {},
   "outputs": [],
   "source": [
    "import imblearn\n",
    "import pandas as pd\n",
    "import numpy"
   ]
  },
  {
   "cell_type": "code",
   "execution_count": 4,
   "id": "b9f25589-426e-4b8a-a57b-b3ac2427875f",
   "metadata": {},
   "outputs": [],
   "source": [
    "train = pd.read_pickle(\"data/train.pickle\")"
   ]
  },
  {
   "cell_type": "code",
   "execution_count": 5,
   "id": "1a0e7a65-a37b-4d9f-8bf5-9c088ecc785c",
   "metadata": {},
   "outputs": [],
   "source": [
    "from imblearn.under_sampling import RandomUnderSampler\n",
    "under = RandomUnderSampler(sampling_strategy=0.1, random_state=123)\n",
    "x, y = under.fit_resample(train.iloc[:,:-1], train[\"Class\"])\n",
    "train_under = pd.concat([x,y], axis=1)\n",
    "train_under.to_pickle(\"data/train_under.pickle\")"
   ]
  },
  {
   "cell_type": "code",
   "execution_count": 7,
   "id": "2a649d89-1854-442f-aba6-caaa2254c8b8",
   "metadata": {},
   "outputs": [],
   "source": [
    "from imblearn.over_sampling import RandomOverSampler\n",
    "over = RandomOverSampler(sampling_strategy=0.3, random_state=123)\n",
    "x, y = over.fit_resample(train.iloc[:,:-1], train[\"Class\"])\n",
    "train_over = pd.concat([x,y], axis=1)\n",
    "train_over.to_pickle(\"data/train_over.pickle\")"
   ]
  },
  {
   "cell_type": "code",
   "execution_count": 11,
   "id": "05787721-ca22-4c52-9539-e19b4d6f02b9",
   "metadata": {},
   "outputs": [],
   "source": [
    "over_shrink = RandomOverSampler(shrinkage=0.3, sampling_strategy=0.3, random_state=123)\n",
    "x,y = over_shrink.fit_resample(train.iloc[:,:-1], train[\"Class\"])\n",
    "train_over_shrink = pd.concat([x,y], axis=1)\n",
    "train_over_shrink.to_pickle(\"data/train_over_shrink.pickle\")"
   ]
  },
  {
   "cell_type": "code",
   "execution_count": 12,
   "id": "82b808ff-5b23-4d8f-9b65-162732285ede",
   "metadata": {},
   "outputs": [],
   "source": [
    "from imblearn.over_sampling import SMOTE\n",
    "smote = SMOTE(sampling_strategy=0.3, random_state=123)\n",
    "x,y = smote.fit_resample(train.iloc[:,:-1], train[\"Class\"])\n",
    "train_smote = pd.concat([x,y], axis=1)\n",
    "train_smote.to_pickle(\"data/train_smote.pickle\")"
   ]
  },
  {
   "cell_type": "code",
   "execution_count": 13,
   "id": "385cdfec-95a9-4666-acfc-786ce44da3cd",
   "metadata": {},
   "outputs": [],
   "source": [
    "from imblearn.over_sampling import ADASYN\n",
    "adasyn = ADASYN(sampling_strategy=0.3, random_state=123)\n",
    "x,y = adasyn.fit_resample(train.iloc[:,:-1], train[\"Class\"])\n",
    "train_adasyn = pd.concat([x,y], axis=1)\n",
    "train_adasyn.to_pickle(\"data/train_adasyn.pickle\")"
   ]
  },
  {
   "cell_type": "code",
   "execution_count": null,
   "id": "888898fd-04e4-4923-94c4-aa516efd264d",
   "metadata": {},
   "outputs": [],
   "source": []
  }
 ],
 "metadata": {
  "kernelspec": {
   "display_name": "Python 3 (ipykernel)",
   "language": "python",
   "name": "python3"
  },
  "language_info": {
   "codemirror_mode": {
    "name": "ipython",
    "version": 3
   },
   "file_extension": ".py",
   "mimetype": "text/x-python",
   "name": "python",
   "nbconvert_exporter": "python",
   "pygments_lexer": "ipython3",
   "version": "3.9.11"
  }
 },
 "nbformat": 4,
 "nbformat_minor": 5
}
