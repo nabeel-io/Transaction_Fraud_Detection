{
 "cells": [
  {
   "cell_type": "code",
   "execution_count": 1,
   "id": "690f6846-d2b9-4ee3-9792-b44f7c067108",
   "metadata": {},
   "outputs": [],
   "source": [
    "import numpy as np \n",
    "import pandas as pd\n",
    "import matplotlib.pyplot as plt\n",
    "import seaborn as sns"
   ]
  },
  {
   "cell_type": "code",
   "execution_count": 2,
   "id": "b284cfaf-4dd0-47b7-8293-d1cd5fba2f53",
   "metadata": {},
   "outputs": [],
   "source": [
    "df = pd.read_pickle(\"data/train.pickle\")"
   ]
  },
  {
   "cell_type": "code",
   "execution_count": 3,
   "id": "7ce9f8ff-0946-4ff3-a96d-53d57ba6701c",
   "metadata": {},
   "outputs": [],
   "source": [
    "X = df.iloc[:, 1:]\n",
    "y = df[\"target\"]"
   ]
  },
  {
   "cell_type": "code",
   "execution_count": 4,
   "id": "54357b37-6384-4dac-8446-ec50ca057f0e",
   "metadata": {},
   "outputs": [
    {
     "name": "stdout",
     "output_type": "stream",
     "text": [
      "Rows:  200000\n",
      "Columns:  200\n"
     ]
    }
   ],
   "source": [
    "print(\"Rows: \" , X.shape[0])\n",
    "print(\"Columns: \", X.shape[1])"
   ]
  },
  {
   "cell_type": "code",
   "execution_count": 5,
   "id": "81d59b05-00c5-4162-8835-e0a45d2e237b",
   "metadata": {},
   "outputs": [
    {
     "data": {
      "text/plain": [
       "0    0.89951\n",
       "1    0.10049\n",
       "Name: target, dtype: float64"
      ]
     },
     "execution_count": 5,
     "metadata": {},
     "output_type": "execute_result"
    }
   ],
   "source": [
    "y.value_counts()/len(y)"
   ]
  },
  {
   "cell_type": "code",
   "execution_count": 6,
   "id": "e988e413-be20-4ae8-afd0-059ad3615f23",
   "metadata": {},
   "outputs": [],
   "source": [
    "# using over sampling to balance thRandomOverSampler dataset"
   ]
  },
  {
   "cell_type": "code",
   "execution_count": 7,
   "id": "ae32a4e9-df10-483c-9c64-cd7e6520699a",
   "metadata": {},
   "outputs": [],
   "source": [
    "from imblearn.over_sampling import RandomOverSampler\n",
    "sampling = RandomOverSampler(random_state=3141)\n",
    "X_ov, y_ov = sampling.fit_resample(X, y)\n",
    "df_over = pd.concat([X_ov, y_ov], axis=1)\n",
    "df_over = df_over.sample(frac=1)"
   ]
  },
  {
   "cell_type": "code",
   "execution_count": 8,
   "id": "d20c8bfb-a347-4e49-8f7d-f89a034954c5",
   "metadata": {},
   "outputs": [
    {
     "data": {
      "text/plain": [
       "0    0.5\n",
       "1    0.5\n",
       "Name: target, dtype: float64"
      ]
     },
     "execution_count": 8,
     "metadata": {},
     "output_type": "execute_result"
    }
   ],
   "source": [
    "y_ov.value_counts()/len(y_ov)"
   ]
  },
  {
   "cell_type": "code",
   "execution_count": 9,
   "id": "2380b160-78a9-4517-b1e9-6fcab7bb5aec",
   "metadata": {},
   "outputs": [],
   "source": [
    "df_over.to_pickle(\"data/df_over.pickle\")"
   ]
  },
  {
   "cell_type": "code",
   "execution_count": null,
   "id": "5242af91-9da5-4219-97b5-50435bd0b433",
   "metadata": {},
   "outputs": [],
   "source": []
  }
 ],
 "metadata": {
  "kernelspec": {
   "display_name": "Python 3 (ipykernel)",
   "language": "python",
   "name": "python3"
  },
  "language_info": {
   "codemirror_mode": {
    "name": "ipython",
    "version": 3
   },
   "file_extension": ".py",
   "mimetype": "text/x-python",
   "name": "python",
   "nbconvert_exporter": "python",
   "pygments_lexer": "ipython3",
   "version": "3.9.11"
  }
 },
 "nbformat": 4,
 "nbformat_minor": 5
}
