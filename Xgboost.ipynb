{
 "cells": [
  {
   "cell_type": "code",
   "execution_count": 2,
   "id": "b5af4a70-dd46-4c53-a4e1-c6582fd01741",
   "metadata": {},
   "outputs": [],
   "source": [
    "import numpy as np\n",
    "import pandas as pd\n",
    "import matplotlib.pyplot as plt\n",
    "import seaborn as sns"
   ]
  },
  {
   "cell_type": "code",
   "execution_count": 3,
   "id": "8e864e9e-5c10-40f8-b24e-93d17cdf3a38",
   "metadata": {},
   "outputs": [],
   "source": [
    "train_smote = pd.read_pickle(\"data/train_smote.pickle\")\n",
    "test = pd.read_pickle(\"data/test.pickle\")"
   ]
  },
  {
   "cell_type": "code",
   "execution_count": 4,
   "id": "6e95b22a-94c6-4840-b1d4-160547779079",
   "metadata": {},
   "outputs": [],
   "source": [
    "x = train_smote.iloc[:, :-1]\n",
    "y = train_smote[\"Class\"]"
   ]
  },
  {
   "cell_type": "code",
   "execution_count": 5,
   "id": "cd45e73a-4066-4f03-8e45-43918ae84c3d",
   "metadata": {},
   "outputs": [],
   "source": [
    "from sklearn.model_selection import train_test_split\n",
    "xtrain, xvalid, ytrain, yvalid = train_test_split(x, y, test_size=0.25, stratify=y,random_state=123)"
   ]
  },
  {
   "cell_type": "code",
   "execution_count": 17,
   "id": "08e5e8f4-64d7-40ab-90c2-05cc8bfc792c",
   "metadata": {},
   "outputs": [],
   "source": [
    "from xgboost import XGBClassifier\n",
    "from sklearn.metrics import roc_auc_score"
   ]
  },
  {
   "cell_type": "code",
   "execution_count": 18,
   "id": "bd592fb5-da54-44d3-aa63-b5a488c256ae",
   "metadata": {},
   "outputs": [],
   "source": [
    "def optimize(trial):\n",
    "    params = {\n",
    "        \"objective\": \"binary:logistic\",\n",
    "        \"eval_metric\": \"auc\",\n",
    "        \"n_estimators\": trial.suggest_int(\"n_estimators\", 200, 500),\n",
    "        \"subsample\":trial.suggest_float(\"subsample\", 0.5, 1.0),\n",
    "        \"lambda\": trial.suggest_float(\"lambda\", 0.01, 1.0),\n",
    "        \"gamma\": trial.suggest_float(\"gamma\", 0.01, 10.0),\n",
    "        \"n_jobs\": -1\n",
    "    }\n",
    "    xgb = XGBClassifier(**params, use_label_encoder=False)\n",
    "    xgb.fit(xtrain, ytrain)\n",
    "    ypred = xgb.predict(xvalid)\n",
    "    auc = roc_auc_score(yvalid, ypred)\n",
    "    return auc"
   ]
  },
  {
   "cell_type": "code",
   "execution_count": 19,
   "id": "dd6fecbe-9021-4a65-917d-c11d01ec3126",
   "metadata": {},
   "outputs": [
    {
     "name": "stderr",
     "output_type": "stream",
     "text": [
      "\u001b[32m[I 2022-07-22 18:58:14,753]\u001b[0m A new study created in memory with name: no-name-4c1ca857-77fc-48ee-a65a-9bf0318d13d4\u001b[0m\n",
      "/home/nabeel/miniconda3/lib/python3.9/site-packages/xgboost/sklearn.py:1224: UserWarning: The use of label encoder in XGBClassifier is deprecated and will be removed in a future release. To remove this warning, do the following: 1) Pass option use_label_encoder=False when constructing XGBClassifier object; and 2) Encode your labels (y) as integers starting with 0, i.e. 0, 1, 2, ..., [num_class - 1].\n",
      "  warnings.warn(label_encoder_deprecation_msg, UserWarning)\n",
      "\u001b[32m[I 2022-07-22 19:00:12,107]\u001b[0m Trial 0 finished with value: 0.999624832346922 and parameters: {'n_estimators': 362, 'subsample': 0.7709844644370879, 'lambda': 0.4296319790849277, 'gamma': 6.940752995172505}. Best is trial 0 with value: 0.999624832346922.\u001b[0m\n",
      "/home/nabeel/miniconda3/lib/python3.9/site-packages/xgboost/sklearn.py:1224: UserWarning: The use of label encoder in XGBClassifier is deprecated and will be removed in a future release. To remove this warning, do the following: 1) Pass option use_label_encoder=False when constructing XGBClassifier object; and 2) Encode your labels (y) as integers starting with 0, i.e. 0, 1, 2, ..., [num_class - 1].\n",
      "  warnings.warn(label_encoder_deprecation_msg, UserWarning)\n",
      "\u001b[32m[I 2022-07-22 19:03:11,453]\u001b[0m Trial 1 finished with value: 0.9995591791512333 and parameters: {'n_estimators': 469, 'subsample': 0.9131054834724621, 'lambda': 0.5818488427246127, 'gamma': 8.096189744730886}. Best is trial 0 with value: 0.999624832346922.\u001b[0m\n",
      "/home/nabeel/miniconda3/lib/python3.9/site-packages/xgboost/sklearn.py:1224: UserWarning: The use of label encoder in XGBClassifier is deprecated and will be removed in a future release. To remove this warning, do the following: 1) Pass option use_label_encoder=False when constructing XGBClassifier object; and 2) Encode your labels (y) as integers starting with 0, i.e. 0, 1, 2, ..., [num_class - 1].\n",
      "  warnings.warn(label_encoder_deprecation_msg, UserWarning)\n",
      "\u001b[32m[I 2022-07-22 19:04:42,189]\u001b[0m Trial 2 finished with value: 0.9995185361940782 and parameters: {'n_estimators': 286, 'subsample': 0.5930213472359751, 'lambda': 0.3255683248035685, 'gamma': 6.624946104947286}. Best is trial 0 with value: 0.999624832346922.\u001b[0m\n",
      "/home/nabeel/miniconda3/lib/python3.9/site-packages/xgboost/sklearn.py:1224: UserWarning: The use of label encoder in XGBClassifier is deprecated and will be removed in a future release. To remove this warning, do the following: 1) Pass option use_label_encoder=False when constructing XGBClassifier object; and 2) Encode your labels (y) as integers starting with 0, i.e. 0, 1, 2, ..., [num_class - 1].\n",
      "  warnings.warn(label_encoder_deprecation_msg, UserWarning)\n",
      "\u001b[32m[I 2022-07-22 19:06:11,437]\u001b[0m Trial 3 finished with value: 0.9997436353784173 and parameters: {'n_estimators': 256, 'subsample': 0.8499217975351189, 'lambda': 0.9565303684172494, 'gamma': 1.254667404656461}. Best is trial 3 with value: 0.9997436353784173.\u001b[0m\n",
      "/home/nabeel/miniconda3/lib/python3.9/site-packages/xgboost/sklearn.py:1224: UserWarning: The use of label encoder in XGBClassifier is deprecated and will be removed in a future release. To remove this warning, do the following: 1) Pass option use_label_encoder=False when constructing XGBClassifier object; and 2) Encode your labels (y) as integers starting with 0, i.e. 0, 1, 2, ..., [num_class - 1].\n",
      "  warnings.warn(label_encoder_deprecation_msg, UserWarning)\n",
      "\u001b[32m[I 2022-07-22 19:08:50,325]\u001b[0m Trial 4 finished with value: 0.9996123272276554 and parameters: {'n_estimators': 364, 'subsample': 0.9939132220543596, 'lambda': 0.9296058674650366, 'gamma': 4.641899719694074}. Best is trial 3 with value: 0.9997436353784173.\u001b[0m\n",
      "/home/nabeel/miniconda3/lib/python3.9/site-packages/xgboost/sklearn.py:1224: UserWarning: The use of label encoder in XGBClassifier is deprecated and will be removed in a future release. To remove this warning, do the following: 1) Pass option use_label_encoder=False when constructing XGBClassifier object; and 2) Encode your labels (y) as integers starting with 0, i.e. 0, 1, 2, ..., [num_class - 1].\n",
      "  warnings.warn(label_encoder_deprecation_msg, UserWarning)\n",
      "\u001b[32m[I 2022-07-22 19:10:30,337]\u001b[0m Trial 5 finished with value: 0.999556053311263 and parameters: {'n_estimators': 342, 'subsample': 0.5051144058746451, 'lambda': 0.5682997138701745, 'gamma': 5.813697165284217}. Best is trial 3 with value: 0.9997436353784173.\u001b[0m\n",
      "/home/nabeel/miniconda3/lib/python3.9/site-packages/xgboost/sklearn.py:1224: UserWarning: The use of label encoder in XGBClassifier is deprecated and will be removed in a future release. To remove this warning, do the following: 1) Pass option use_label_encoder=False when constructing XGBClassifier object; and 2) Encode your labels (y) as integers starting with 0, i.e. 0, 1, 2, ..., [num_class - 1].\n",
      "  warnings.warn(label_encoder_deprecation_msg, UserWarning)\n",
      "\u001b[32m[I 2022-07-22 19:11:36,419]\u001b[0m Trial 6 finished with value: 0.9997936576148687 and parameters: {'n_estimators': 220, 'subsample': 0.5642606629554078, 'lambda': 0.4575741465492926, 'gamma': 1.116672466126919}. Best is trial 6 with value: 0.9997936576148687.\u001b[0m\n",
      "/home/nabeel/miniconda3/lib/python3.9/site-packages/xgboost/sklearn.py:1224: UserWarning: The use of label encoder in XGBClassifier is deprecated and will be removed in a future release. To remove this warning, do the following: 1) Pass option use_label_encoder=False when constructing XGBClassifier object; and 2) Encode your labels (y) as integers starting with 0, i.e. 0, 1, 2, ..., [num_class - 1].\n",
      "  warnings.warn(label_encoder_deprecation_msg, UserWarning)\n",
      "\u001b[32m[I 2022-07-22 19:14:08,210]\u001b[0m Trial 7 finished with value: 0.9997436353784173 and parameters: {'n_estimators': 485, 'subsample': 0.5912036068437051, 'lambda': 0.21586491020559895, 'gamma': 2.811631537631006}. Best is trial 6 with value: 0.9997936576148687.\u001b[0m\n",
      "/home/nabeel/miniconda3/lib/python3.9/site-packages/xgboost/sklearn.py:1224: UserWarning: The use of label encoder in XGBClassifier is deprecated and will be removed in a future release. To remove this warning, do the following: 1) Pass option use_label_encoder=False when constructing XGBClassifier object; and 2) Encode your labels (y) as integers starting with 0, i.e. 0, 1, 2, ..., [num_class - 1].\n",
      "  warnings.warn(label_encoder_deprecation_msg, UserWarning)\n",
      "\u001b[32m[I 2022-07-22 19:16:50,901]\u001b[0m Trial 8 finished with value: 0.9995247878740192 and parameters: {'n_estimators': 436, 'subsample': 0.6104379709640767, 'lambda': 0.38887703891797804, 'gamma': 9.827393829676826}. Best is trial 6 with value: 0.9997936576148687.\u001b[0m\n",
      "/home/nabeel/miniconda3/lib/python3.9/site-packages/xgboost/sklearn.py:1224: UserWarning: The use of label encoder in XGBClassifier is deprecated and will be removed in a future release. To remove this warning, do the following: 1) Pass option use_label_encoder=False when constructing XGBClassifier object; and 2) Encode your labels (y) as integers starting with 0, i.e. 0, 1, 2, ..., [num_class - 1].\n",
      "  warnings.warn(label_encoder_deprecation_msg, UserWarning)\n",
      "\u001b[32m[I 2022-07-22 19:18:18,370]\u001b[0m Trial 9 finished with value: 0.9997436353784173 and parameters: {'n_estimators': 288, 'subsample': 0.5253136064905353, 'lambda': 0.8408394960688108, 'gamma': 2.5587876231142594}. Best is trial 6 with value: 0.9997936576148687.\u001b[0m\n",
      "/home/nabeel/miniconda3/lib/python3.9/site-packages/xgboost/sklearn.py:1224: UserWarning: The use of label encoder in XGBClassifier is deprecated and will be removed in a future release. To remove this warning, do the following: 1) Pass option use_label_encoder=False when constructing XGBClassifier object; and 2) Encode your labels (y) as integers starting with 0, i.e. 0, 1, 2, ..., [num_class - 1].\n",
      "  warnings.warn(label_encoder_deprecation_msg, UserWarning)\n",
      "\u001b[32m[I 2022-07-22 19:19:10,485]\u001b[0m Trial 10 finished with value: 0.9999249657656305 and parameters: {'n_estimators': 202, 'subsample': 0.699964431669806, 'lambda': 0.01263154429806812, 'gamma': 0.016353641862376422}. Best is trial 10 with value: 0.9999249657656305.\u001b[0m\n",
      "/home/nabeel/miniconda3/lib/python3.9/site-packages/xgboost/sklearn.py:1224: UserWarning: The use of label encoder in XGBClassifier is deprecated and will be removed in a future release. To remove this warning, do the following: 1) Pass option use_label_encoder=False when constructing XGBClassifier object; and 2) Encode your labels (y) as integers starting with 0, i.e. 0, 1, 2, ..., [num_class - 1].\n",
      "  warnings.warn(label_encoder_deprecation_msg, UserWarning)\n",
      "\u001b[32m[I 2022-07-22 19:20:03,551]\u001b[0m Trial 11 finished with value: 0.999865564249883 and parameters: {'n_estimators': 203, 'subsample': 0.7062229091441926, 'lambda': 0.04047118342523015, 'gamma': 0.04724869841693646}. Best is trial 10 with value: 0.9999249657656305.\u001b[0m\n",
      "/home/nabeel/miniconda3/lib/python3.9/site-packages/xgboost/sklearn.py:1224: UserWarning: The use of label encoder in XGBClassifier is deprecated and will be removed in a future release. To remove this warning, do the following: 1) Pass option use_label_encoder=False when constructing XGBClassifier object; and 2) Encode your labels (y) as integers starting with 0, i.e. 0, 1, 2, ..., [num_class - 1].\n",
      "  warnings.warn(label_encoder_deprecation_msg, UserWarning)\n",
      "\u001b[32m[I 2022-07-22 19:21:05,840]\u001b[0m Trial 12 finished with value: 0.999865564249883 and parameters: {'n_estimators': 205, 'subsample': 0.6999637029456129, 'lambda': 0.03294671076960397, 'gamma': 0.44272915348997705}. Best is trial 10 with value: 0.9999249657656305.\u001b[0m\n",
      "/home/nabeel/miniconda3/lib/python3.9/site-packages/xgboost/sklearn.py:1224: UserWarning: The use of label encoder in XGBClassifier is deprecated and will be removed in a future release. To remove this warning, do the following: 1) Pass option use_label_encoder=False when constructing XGBClassifier object; and 2) Encode your labels (y) as integers starting with 0, i.e. 0, 1, 2, ..., [num_class - 1].\n",
      "  warnings.warn(label_encoder_deprecation_msg, UserWarning)\n",
      "\u001b[32m[I 2022-07-22 19:21:54,992]\u001b[0m Trial 13 finished with value: 0.9998436798513202 and parameters: {'n_estimators': 201, 'subsample': 0.6707700635426859, 'lambda': 0.013644461271930171, 'gamma': 0.03737371612886781}. Best is trial 10 with value: 0.9999249657656305.\u001b[0m\n",
      "/home/nabeel/miniconda3/lib/python3.9/site-packages/xgboost/sklearn.py:1224: UserWarning: The use of label encoder in XGBClassifier is deprecated and will be removed in a future release. To remove this warning, do the following: 1) Pass option use_label_encoder=False when constructing XGBClassifier object; and 2) Encode your labels (y) as integers starting with 0, i.e. 0, 1, 2, ..., [num_class - 1].\n",
      "  warnings.warn(label_encoder_deprecation_msg, UserWarning)\n",
      "\u001b[32m[I 2022-07-22 19:23:31,207]\u001b[0m Trial 14 finished with value: 0.9997936576148687 and parameters: {'n_estimators': 251, 'subsample': 0.7847307633509378, 'lambda': 0.16734976422548997, 'gamma': 3.435260623288805}. Best is trial 10 with value: 0.9999249657656305.\u001b[0m\n",
      "/home/nabeel/miniconda3/lib/python3.9/site-packages/xgboost/sklearn.py:1224: UserWarning: The use of label encoder in XGBClassifier is deprecated and will be removed in a future release. To remove this warning, do the following: 1) Pass option use_label_encoder=False when constructing XGBClassifier object; and 2) Encode your labels (y) as integers starting with 0, i.e. 0, 1, 2, ..., [num_class - 1].\n",
      "  warnings.warn(label_encoder_deprecation_msg, UserWarning)\n",
      "\u001b[32m[I 2022-07-22 19:25:14,255]\u001b[0m Trial 15 finished with value: 0.9997748990562764 and parameters: {'n_estimators': 314, 'subsample': 0.6920833518740461, 'lambda': 0.133774402640076, 'gamma': 1.89815364990845}. Best is trial 10 with value: 0.9999249657656305.\u001b[0m\n",
      "/home/nabeel/miniconda3/lib/python3.9/site-packages/xgboost/sklearn.py:1224: UserWarning: The use of label encoder in XGBClassifier is deprecated and will be removed in a future release. To remove this warning, do the following: 1) Pass option use_label_encoder=False when constructing XGBClassifier object; and 2) Encode your labels (y) as integers starting with 0, i.e. 0, 1, 2, ..., [num_class - 1].\n",
      "  warnings.warn(label_encoder_deprecation_msg, UserWarning)\n",
      "\u001b[32m[I 2022-07-22 19:27:51,699]\u001b[0m Trial 16 finished with value: 0.9996936131419658 and parameters: {'n_estimators': 406, 'subsample': 0.8307508030675282, 'lambda': 0.6757713108687693, 'gamma': 4.134811648761356}. Best is trial 10 with value: 0.9999249657656305.\u001b[0m\n",
      "/home/nabeel/miniconda3/lib/python3.9/site-packages/xgboost/sklearn.py:1224: UserWarning: The use of label encoder in XGBClassifier is deprecated and will be removed in a future release. To remove this warning, do the following: 1) Pass option use_label_encoder=False when constructing XGBClassifier object; and 2) Encode your labels (y) as integers starting with 0, i.e. 0, 1, 2, ..., [num_class - 1].\n",
      "  warnings.warn(label_encoder_deprecation_msg, UserWarning)\n",
      "\u001b[32m[I 2022-07-22 19:29:11,790]\u001b[0m Trial 17 finished with value: 0.9997842783355725 and parameters: {'n_estimators': 258, 'subsample': 0.6375865848486589, 'lambda': 0.26215352659064023, 'gamma': 1.1222725228076817}. Best is trial 10 with value: 0.9999249657656305.\u001b[0m\n",
      "/home/nabeel/miniconda3/lib/python3.9/site-packages/xgboost/sklearn.py:1224: UserWarning: The use of label encoder in XGBClassifier is deprecated and will be removed in a future release. To remove this warning, do the following: 1) Pass option use_label_encoder=False when constructing XGBClassifier object; and 2) Encode your labels (y) as integers starting with 0, i.e. 0, 1, 2, ..., [num_class - 1].\n",
      "  warnings.warn(label_encoder_deprecation_msg, UserWarning)\n",
      "\u001b[32m[I 2022-07-22 19:30:22,686]\u001b[0m Trial 18 finished with value: 0.9998468056912907 and parameters: {'n_estimators': 245, 'subsample': 0.7293543989543454, 'lambda': 0.10385827664217906, 'gamma': 0.32922821887747133}. Best is trial 10 with value: 0.9999249657656305.\u001b[0m\n",
      "/home/nabeel/miniconda3/lib/python3.9/site-packages/xgboost/sklearn.py:1224: UserWarning: The use of label encoder in XGBClassifier is deprecated and will be removed in a future release. To remove this warning, do the following: 1) Pass option use_label_encoder=False when constructing XGBClassifier object; and 2) Encode your labels (y) as integers starting with 0, i.e. 0, 1, 2, ..., [num_class - 1].\n",
      "  warnings.warn(label_encoder_deprecation_msg, UserWarning)\n",
      "\u001b[32m[I 2022-07-22 19:32:11,444]\u001b[0m Trial 19 finished with value: 0.9997373819390916 and parameters: {'n_estimators': 296, 'subsample': 0.6539048265608838, 'lambda': 0.2644278419802663, 'gamma': 2.129422254271056}. Best is trial 10 with value: 0.9999249657656305.\u001b[0m\n"
     ]
    }
   ],
   "source": [
    "import optuna\n",
    "study = optuna.create_study(direction=\"maximize\")\n",
    "study.optimize(optimize,n_trials=20 )"
   ]
  },
  {
   "cell_type": "code",
   "execution_count": 25,
   "id": "6b4f4c90-0e17-4e3d-b861-909428b63a14",
   "metadata": {},
   "outputs": [],
   "source": [
    "from sklearn.metrics import classification_report, confusion_matrix"
   ]
  },
  {
   "cell_type": "code",
   "execution_count": 26,
   "id": "f27561dc-ca2a-48fc-933a-160d0340fe9b",
   "metadata": {},
   "outputs": [],
   "source": [
    "def xgb_fit(train_set):\n",
    "    xtrain, xvalid, ytrain, yvalid = train_test_split(train_set.iloc[:,:-1], train_set[\"Class\"], test_size=0.25, random_state=123)\n",
    "    xgb = XGBClassifier(objective=\"binary:logistic\",\n",
    "                        eval_metric=\"auc\",\n",
    "                        n_estimators=200, \n",
    "                        subsample=0.70, \n",
    "                        eta=0.01, \n",
    "                        gamma=0.01, \n",
    "                        n_jobs=-1, \n",
    "                        use_label_encoder=False)\n",
    "    xgb.fit(xtrain, ytrain)\n",
    "    v_pred = xgb.predict(xvalid)\n",
    "    y_pred = xgb.predict(test.iloc[:,:-1])\n",
    "    vcm = confusion_matrix(yvalid,v_pred)\n",
    "    ycm = confusion_matrix(test[\"Class\"], y_pred)\n",
    "    fig , axes = plt.subplots(1,2)\n",
    "    fig1 = sns.heatmap(vcm, cmap=\"Blues\", linewidths=0.9, cbar=False, annot=True, fmt =\"d\",ax=axes[0])\n",
    "    fig2 = sns.heatmap(ycm, cmap=\"Blues\", linewidths=0.9, cbar=False, annot=True, fmt =\"d\",ax=axes[1])\n",
    "    fig1.set(xlabel=\"Predicted\", ylabel=\"Truth\")\n",
    "    fig1.set_title(\"Validation\")\n",
    "    fig2.set(xlabel=\"Predicted\", ylabel=\"Truth\")\n",
    "    fig2.set_title(\"Test\")\n",
    "    fig.suptitle(\"XGBoost\")\n",
    "    plt.tight_layout()\n",
    "    print(classification_report(test[\"Class\"], y_pred))"
   ]
  },
  {
   "cell_type": "code",
   "execution_count": 27,
   "id": "4c2017f1-8552-4c1e-8745-ae3ffe26e790",
   "metadata": {},
   "outputs": [
    {
     "name": "stdout",
     "output_type": "stream",
     "text": [
      "              precision    recall  f1-score   support\n",
      "\n",
      "           0       1.00      1.00      1.00     71079\n",
      "           1       0.52      0.85      0.64       123\n",
      "\n",
      "    accuracy                           1.00     71202\n",
      "   macro avg       0.76      0.92      0.82     71202\n",
      "weighted avg       1.00      1.00      1.00     71202\n",
      "\n"
     ]
    },
    {
     "data": {
      "image/png": "[encoded data removed]",
      "text/plain": [
       "<Figure size 432x288 with 2 Axes>"
      ]
     },
     "metadata": {
      "needs_background": "light"
     },
     "output_type": "display_data"
    }
   ],
   "source": [
    "train_under = pd.read_pickle(\"data/train_under.pickle\")\n",
    "xgb_fit(train_under)"
   ]
  },
  {
   "cell_type": "code",
   "execution_count": 28,
   "id": "aca44cc1-a859-480c-ab94-76cf0be45d22",
   "metadata": {},
   "outputs": [
    {
     "name": "stdout",
     "output_type": "stream",
     "text": [
      "              precision    recall  f1-score   support\n",
      "\n",
      "           0       1.00      1.00      1.00     71079\n",
      "           1       0.63      0.78      0.70       123\n",
      "\n",
      "    accuracy                           1.00     71202\n",
      "   macro avg       0.81      0.89      0.85     71202\n",
      "weighted avg       1.00      1.00      1.00     71202\n",
      "\n"
     ]
    },
    {
     "data": {
      "image/png": "[encoded data removed]",
      "text/plain": [
       "<Figure size 432x288 with 2 Axes>"
      ]
     },
     "metadata": {
      "needs_background": "light"
     },
     "output_type": "display_data"
    }
   ],
   "source": [
    "train_over = pd.read_pickle(\"data/train_over.pickle\")\n",
    "xgb_fit(train_over)"
   ]
  },
  {
   "cell_type": "code",
   "execution_count": 29,
   "id": "cb228176-df7d-43eb-92db-260b2c359a8b",
   "metadata": {},
   "outputs": [
    {
     "name": "stdout",
     "output_type": "stream",
     "text": [
      "              precision    recall  f1-score   support\n",
      "\n",
      "           0       1.00      1.00      1.00     71079\n",
      "           1       0.42      0.84      0.56       123\n",
      "\n",
      "    accuracy                           1.00     71202\n",
      "   macro avg       0.71      0.92      0.78     71202\n",
      "weighted avg       1.00      1.00      1.00     71202\n",
      "\n"
     ]
    },
    {
     "data": {
      "image/png": "[encoded data removed]",
      "text/plain": [
       "<Figure size 432x288 with 2 Axes>"
      ]
     },
     "metadata": {
      "needs_background": "light"
     },
     "output_type": "display_data"
    }
   ],
   "source": [
    "train_over_shrink = pd.read_pickle(\"data/train_over_shrink.pickle\")\n",
    "xgb_fit(train_over_shrink)"
   ]
  },
  {
   "cell_type": "code",
   "execution_count": 30,
   "id": "1b321a53-419a-44cf-a290-b9cae4ae8b5e",
   "metadata": {},
   "outputs": [
    {
     "name": "stdout",
     "output_type": "stream",
     "text": [
      "              precision    recall  f1-score   support\n",
      "\n",
      "           0       1.00      1.00      1.00     71079\n",
      "           1       0.46      0.80      0.59       123\n",
      "\n",
      "    accuracy                           1.00     71202\n",
      "   macro avg       0.73      0.90      0.79     71202\n",
      "weighted avg       1.00      1.00      1.00     71202\n",
      "\n"
     ]
    },
    {
     "data": {
      "image/png": "[encoded data removed]",
      "text/plain": [
       "<Figure size 432x288 with 2 Axes>"
      ]
     },
     "metadata": {
      "needs_background": "light"
     },
     "output_type": "display_data"
    }
   ],
   "source": [
    "xgb_fit(train_smote)"
   ]
  },
  {
   "cell_type": "code",
   "execution_count": 31,
   "id": "3e89b8b2-7f25-4910-b1f2-b12a077f9dfb",
   "metadata": {},
   "outputs": [
    {
     "name": "stdout",
     "output_type": "stream",
     "text": [
      "              precision    recall  f1-score   support\n",
      "\n",
      "           0       1.00      1.00      1.00     71079\n",
      "           1       0.42      0.80      0.56       123\n",
      "\n",
      "    accuracy                           1.00     71202\n",
      "   macro avg       0.71      0.90      0.78     71202\n",
      "weighted avg       1.00      1.00      1.00     71202\n",
      "\n"
     ]
    },
    {
     "data": {
      "image/png": "[encoded data removed]",
      "text/plain": [
       "<Figure size 432x288 with 2 Axes>"
      ]
     },
     "metadata": {
      "needs_background": "light"
     },
     "output_type": "display_data"
    }
   ],
   "source": [
    "train_adasyn = pd.read_pickle(\"data/train_adasyn.pickle\")\n",
    "xgb_fit(train_adasyn)"
   ]
  },
  {
   "cell_type": "code",
   "execution_count": null,
   "id": "e9f76291-65d3-4555-ac4e-14523fcc5f43",
   "metadata": {},
   "outputs": [],
   "source": []
  }
 ],
 "metadata": {
  "kernelspec": {
   "display_name": "Python 3 (ipykernel)",
   "language": "python",
   "name": "python3"
  },
  "language_info": {
   "codemirror_mode": {
    "name": "ipython",
    "version": 3
   },
   "file_extension": ".py",
   "mimetype": "text/x-python",
   "name": "python",
   "nbconvert_exporter": "python",
   "pygments_lexer": "ipython3",
   "version": "3.9.11"
  }
 },
 "nbformat": 4,
 "nbformat_minor": 5
}
