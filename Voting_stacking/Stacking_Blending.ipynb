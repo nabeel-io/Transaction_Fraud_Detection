{
 "cells": [
  {
   "cell_type": "markdown",
   "id": "1edd4698-6194-442a-9fa4-5e4baedd1e9e",
   "metadata": {},
   "source": [
    "# **Voting and Stacking**"
   ]
  },
  {
   "cell_type": "markdown",
   "id": "39279ba3-6bc5-4585-84fe-57fdbf7dc737",
   "metadata": {},
   "source": [
    "### **Importing libraries**"
   ]
  },
  {
   "cell_type": "code",
   "execution_count": 159,
   "id": "715beb09-eecd-4fb1-8b5a-baa06ba3180a",
   "metadata": {},
   "outputs": [],
   "source": [
    "# import library\n",
    "import pandas as pd\n",
    "import numpy as np\n",
    "import matplotlib.pyplot as plt\n",
    "import seaborn as sns\n",
    "import joblib\n",
    "sns.reset_defaults()"
   ]
  },
  {
   "cell_type": "code",
   "execution_count": 160,
   "id": "3d6fb83f-2eb4-4c89-85cd-2451cc393a9c",
   "metadata": {},
   "outputs": [],
   "source": [
    "from sklearn.metrics import confusion_matrix\n",
    "from sklearn.metrics import classification_report\n",
    "from sklearn.metrics import roc_auc_score, roc_curve"
   ]
  },
  {
   "cell_type": "markdown",
   "id": "e53a0bc9-4ec7-4b7a-a1f7-d634d7f7d4ec",
   "metadata": {},
   "source": [
    "### **Testing and Training Data**"
   ]
  },
  {
   "cell_type": "code",
   "execution_count": 161,
   "id": "6e60dfd1-115f-485a-91f1-2d6b2ceb715a",
   "metadata": {},
   "outputs": [],
   "source": [
    "# loading training and testing data\n",
    "train = pd.read_pickle(\"data/train_over_shrink.pickle\")\n",
    "test = pd.read_pickle(\"data/test.pickle\")"
   ]
  },
  {
   "cell_type": "markdown",
   "id": "61a952b2-c8a7-4626-8cf9-fdf0df3d83b1",
   "metadata": {},
   "source": [
    "### **Loading Models**\n",
    "\n",
    "*Reloading random forest, xgboost and lightgbm models using joblib*"
   ]
  },
  {
   "cell_type": "code",
   "execution_count": 162,
   "id": "79ca021f-66bb-409a-84d8-364dd3915a91",
   "metadata": {},
   "outputs": [],
   "source": [
    "# loading models\n",
    "rfc = joblib.load(\"models/rfc.pkl\")\n",
    "xgb = joblib.load(\"models/xgb.pkl\")\n",
    "lgb = joblib.load(\"models/lgb.pkl\")"
   ]
  },
  {
   "cell_type": "markdown",
   "id": "51e5a706-e362-4cff-ab9e-ea4451dc0100",
   "metadata": {},
   "source": [
    "### **Calculating probabilities for training and testing set**"
   ]
  },
  {
   "cell_type": "code",
   "execution_count": 163,
   "id": "883c58a8-0c37-4112-8c56-065bc9aa584e",
   "metadata": {},
   "outputs": [],
   "source": [
    "def predict_probability(data):\n",
    "    df = pd.DataFrame()\n",
    "    df[\"rfc\"] = rfc.predict_proba(data.to_numpy()).T[1]\n",
    "    df[\"xgb\"] = xgb.predict_proba(data.to_numpy()).T[1]\n",
    "    df[\"lgb\"] = lgb.predict_proba(data.to_numpy()).T[1]\n",
    "    return df"
   ]
  },
  {
   "cell_type": "code",
   "execution_count": 164,
   "id": "1f20b5db-795b-444a-ace8-406086b67814",
   "metadata": {},
   "outputs": [],
   "source": [
    "train_probability = predict_probability(train.iloc[:, :-1])\n",
    "test_probability = predict_probability(test.iloc[:, :-1])"
   ]
  },
  {
   "cell_type": "markdown",
   "id": "421051a7-c3e1-4d84-91ab-6366b4461192",
   "metadata": {},
   "source": [
    "### **Voting Model**\n",
    "\n",
    "*In Voting Classifier we calculate probabilities from several classifiers (RFC, Xgboost, LGBM) and we combine there predicted \n",
    "probabilities to get an average probability assosiated with the class*"
   ]
  },
  {
   "cell_type": "code",
   "execution_count": 165,
   "id": "293a3958-ca2c-4246-a550-e2627be8cad2",
   "metadata": {},
   "outputs": [],
   "source": [
    "voting_prob = test_probability.sum(axis=1)\n",
    "test_pred = []\n",
    "for p in voting_prob:\n",
    "    if p <= 0.5:\n",
    "        test_pred.append(0)\n",
    "    else:\n",
    "        test_pred.append(1)"
   ]
  },
  {
   "cell_type": "code",
   "execution_count": 166,
   "id": "abd03f93-6b05-463e-a22f-15706c3c59c7",
   "metadata": {},
   "outputs": [],
   "source": [
    "test_actual = test[\"Class\"].to_numpy()"
   ]
  },
  {
   "cell_type": "code",
   "execution_count": 167,
   "id": "a68aa804-1909-4442-945e-4398ce833907",
   "metadata": {},
   "outputs": [
    {
     "name": "stdout",
     "output_type": "stream",
     "text": [
      "[[70570   509]\n",
      " [   17   106]]\n"
     ]
    }
   ],
   "source": [
    "cm = confusion_matrix(test_actual, test_pred)\n",
    "print(cm)"
   ]
  },
  {
   "cell_type": "code",
   "execution_count": 168,
   "id": "d5b98ecd-8a31-4272-81a5-20b404720fd5",
   "metadata": {},
   "outputs": [
    {
     "name": "stdout",
     "output_type": "stream",
     "text": [
      "0.927\n"
     ]
    }
   ],
   "source": [
    "score = np.round(roc_auc_score(test_actual, test_pred), 3)\n",
    "print(score)"
   ]
  },
  {
   "cell_type": "code",
   "execution_count": 183,
   "id": "79abed77-ca63-4d7d-af21-51eb35510b90",
   "metadata": {},
   "outputs": [
    {
     "data": {
      "image/png": "[encoded data removed]",
      "text/plain": [
       "<Figure size 700x400 with 2 Axes>"
      ]
     },
     "metadata": {},
     "output_type": "display_data"
    }
   ],
   "source": [
    "fpr, tpr, _ = roc_curve(test_actual, blended_prob)\n",
    "fig, axes = plt.subplots(nrows=1, ncols=2, figsize=(7,4))\n",
    "fig1 = sns.lineplot(x=fpr, y=tpr, color=\"navy\", linewidth=2.0, ax=axes[0], label = f\"ROC Score is {score}\")\n",
    "#sns.scatterplot(x=fpr[50:80], y=tpr[50:80], color=\"black\", ax=axes[0])\n",
    "fig2 = sns.heatmap(cm, cmap=\"Blues\", linewidths=0.9, cbar=False, annot=True, fmt=\"d\", ax=axes[1])\n",
    "fig1.set(xlabel=\"FPR\", ylabel=\"TPR\")\n",
    "fig1.set_title(\"ROC Curve\")\n",
    "fig2.set(xlabel=\"Prediction\", ylabel=\"Truth\")\n",
    "fig2.set_title(\"Test\")\n",
    "fig.suptitle(\"Voting Model\")\n",
    "plt.tight_layout()"
   ]
  },
  {
   "cell_type": "markdown",
   "id": "14663d59-c6de-4bae-bedf-a3988e95a7ec",
   "metadata": {},
   "source": [
    "*Voting Classifier improve the model by increasing the recall for class 1 to 0.86%*"
   ]
  },
  {
   "cell_type": "code",
   "execution_count": 176,
   "id": "71fc685e-b599-4187-8771-56c4ddf7c34b",
   "metadata": {},
   "outputs": [
    {
     "name": "stdout",
     "output_type": "stream",
     "text": [
      "              precision    recall  f1-score   support\n",
      "\n",
      "           0       1.00      0.99      1.00     71079\n",
      "           1       0.17      0.86      0.29       123\n",
      "\n",
      "    accuracy                           0.99     71202\n",
      "   macro avg       0.59      0.93      0.64     71202\n",
      "weighted avg       1.00      0.99      1.00     71202\n",
      "\n"
     ]
    }
   ],
   "source": [
    "print(classification_report(test_actual, test_pred))"
   ]
  },
  {
   "cell_type": "markdown",
   "id": "5ec49636-7ec5-43aa-a841-337afb782d25",
   "metadata": {},
   "source": [
    "### **Stacking Model**\n",
    "*In stacking we have two levels of implementing ML models, at level 0 we calculate the predictions from several classifiers from the \n",
    "data we use to train and feed these probabilities as new features to a level 1 classifier to get final predictions.*"
   ]
  },
  {
   "cell_type": "code",
   "execution_count": 177,
   "id": "cba86180-0ce5-4f28-899b-7c13f6477851",
   "metadata": {},
   "outputs": [
    {
     "data": {
      "text/html": [
       "<style>#sk-container-id-7 {color: black;background-color: white;}#sk-container-id-7 pre{padding: 0;}#sk-container-id-7 div.sk-toggleable {background-color: white;}#sk-container-id-7 label.sk-toggleable__label {cursor: pointer;display: block;width: 100%;margin-bottom: 0;padding: 0.3em;box-sizing: border-box;text-align: center;}#sk-container-id-7 label.sk-toggleable__label-arrow:before {content: \"▸\";float: left;margin-right: 0.25em;color: #696969;}#sk-container-id-7 label.sk-toggleable__label-arrow:hover:before {color: black;}#sk-container-id-7 div.sk-estimator:hover label.sk-toggleable__label-arrow:before {color: black;}#sk-container-id-7 div.sk-toggleable__content {max-height: 0;max-width: 0;overflow: hidden;text-align: left;background-color: #f0f8ff;}#sk-container-id-7 div.sk-toggleable__content pre {margin: 0.2em;color: black;border-radius: 0.25em;background-color: #f0f8ff;}#sk-container-id-7 input.sk-toggleable__control:checked~div.sk-toggleable__content {max-height: 200px;max-width: 100%;overflow: auto;}#sk-container-id-7 input.sk-toggleable__control:checked~label.sk-toggleable__label-arrow:before {content: \"▾\";}#sk-container-id-7 div.sk-estimator input.sk-toggleable__control:checked~label.sk-toggleable__label {background-color: #d4ebff;}#sk-container-id-7 div.sk-label input.sk-toggleable__control:checked~label.sk-toggleable__label {background-color: #d4ebff;}#sk-container-id-7 input.sk-hidden--visually {border: 0;clip: rect(1px 1px 1px 1px);clip: rect(1px, 1px, 1px, 1px);height: 1px;margin: -1px;overflow: hidden;padding: 0;position: absolute;width: 1px;}#sk-container-id-7 div.sk-estimator {font-family: monospace;background-color: #f0f8ff;border: 1px dotted black;border-radius: 0.25em;box-sizing: border-box;margin-bottom: 0.5em;}#sk-container-id-7 div.sk-estimator:hover {background-color: #d4ebff;}#sk-container-id-7 div.sk-parallel-item::after {content: \"\";width: 100%;border-bottom: 1px solid gray;flex-grow: 1;}#sk-container-id-7 div.sk-label:hover label.sk-toggleable__label {background-color: #d4ebff;}#sk-container-id-7 div.sk-serial::before {content: \"\";position: absolute;border-left: 1px solid gray;box-sizing: border-box;top: 0;bottom: 0;left: 50%;z-index: 0;}#sk-container-id-7 div.sk-serial {display: flex;flex-direction: column;align-items: center;background-color: white;padding-right: 0.2em;padding-left: 0.2em;position: relative;}#sk-container-id-7 div.sk-item {position: relative;z-index: 1;}#sk-container-id-7 div.sk-parallel {display: flex;align-items: stretch;justify-content: center;background-color: white;position: relative;}#sk-container-id-7 div.sk-item::before, #sk-container-id-7 div.sk-parallel-item::before {content: \"\";position: absolute;border-left: 1px solid gray;box-sizing: border-box;top: 0;bottom: 0;left: 50%;z-index: -1;}#sk-container-id-7 div.sk-parallel-item {display: flex;flex-direction: column;z-index: 1;position: relative;background-color: white;}#sk-container-id-7 div.sk-parallel-item:first-child::after {align-self: flex-end;width: 50%;}#sk-container-id-7 div.sk-parallel-item:last-child::after {align-self: flex-start;width: 50%;}#sk-container-id-7 div.sk-parallel-item:only-child::after {width: 0;}#sk-container-id-7 div.sk-dashed-wrapped {border: 1px dashed gray;margin: 0 0.4em 0.5em 0.4em;box-sizing: border-box;padding-bottom: 0.4em;background-color: white;}#sk-container-id-7 div.sk-label label {font-family: monospace;font-weight: bold;display: inline-block;line-height: 1.2em;}#sk-container-id-7 div.sk-label-container {text-align: center;}#sk-container-id-7 div.sk-container {/* jupyter's `normalize.less` sets `[hidden] { display: none; }` but bootstrap.min.css set `[hidden] { display: none !important; }` so we also need the `!important` here to be able to override the default hidden behavior on the sphinx rendered scikit-learn.org. See: https://github.com/scikit-learn/scikit-learn/issues/21755 */display: inline-block !important;position: relative;}#sk-container-id-7 div.sk-text-repr-fallback {display: none;}</style><div id=\"sk-container-id-7\" class=\"sk-top-container\"><div class=\"sk-text-repr-fallback\"><pre>LogisticRegression()</pre><b>In a Jupyter environment, please rerun this cell to show the HTML representation or trust the notebook. <br />On GitHub, the HTML representation is unable to render, please try loading this page with nbviewer.org.</b></div><div class=\"sk-container\" hidden><div class=\"sk-item\"><div class=\"sk-estimator sk-toggleable\"><input class=\"sk-toggleable__control sk-hidden--visually\" id=\"sk-estimator-id-7\" type=\"checkbox\" checked><label for=\"sk-estimator-id-7\" class=\"sk-toggleable__label sk-toggleable__label-arrow\">LogisticRegression</label><div class=\"sk-toggleable__content\"><pre>LogisticRegression()</pre></div></div></div></div></div>"
      ],
      "text/plain": [
       "LogisticRegression()"
      ]
     },
     "execution_count": 177,
     "metadata": {},
     "output_type": "execute_result"
    }
   ],
   "source": [
    "from sklearn.linear_model import LogisticRegression\n",
    "# level 1 model\n",
    "logit = LogisticRegression()\n",
    "logit.fit(train_probability, train[\"Class\"])"
   ]
  },
  {
   "cell_type": "code",
   "execution_count": 178,
   "id": "5e4714cb-7e41-489a-a6b1-292f19814ba3",
   "metadata": {},
   "outputs": [],
   "source": [
    "test_pred = logit.predict(test_probability)"
   ]
  },
  {
   "cell_type": "code",
   "execution_count": 179,
   "id": "e110959e-c792-4f01-ac3b-987128bb7924",
   "metadata": {},
   "outputs": [
    {
     "name": "stdout",
     "output_type": "stream",
     "text": [
      "[[71025    54]\n",
      " [   21   102]]\n"
     ]
    }
   ],
   "source": [
    "cm = confusion_matrix(test_actual, test_pred)\n",
    "print(cm)"
   ]
  },
  {
   "cell_type": "code",
   "execution_count": 180,
   "id": "db61af3e-0e89-4c32-bba9-5dc97579b5eb",
   "metadata": {},
   "outputs": [
    {
     "name": "stdout",
     "output_type": "stream",
     "text": [
      "0.914\n"
     ]
    }
   ],
   "source": [
    "score = np.round(roc_auc_score(test_actual, test_pred), 3)\n",
    "print(score)"
   ]
  },
  {
   "cell_type": "code",
   "execution_count": 181,
   "id": "1cfcccbf-7ddc-4f9f-83d8-b7415cf5650a",
   "metadata": {},
   "outputs": [
    {
     "data": {
      "image/png": "[encoded data removed]",
      "text/plain": [
       "<Figure size 700x400 with 2 Axes>"
      ]
     },
     "metadata": {},
     "output_type": "display_data"
    }
   ],
   "source": [
    "fpr, tpr, _ = roc_curve(test_actual, blended_prob)\n",
    "fig, axes = plt.subplots(nrows=1, ncols=2, figsize=(7,4))\n",
    "fig1 = sns.lineplot(x=fpr, y=tpr, color=\"green\", linewidth=2.0, ax=axes[0], label = f\"ROC Score is {score}\")\n",
    "#sns.scatterplot(x=fpr[50:80], y=tpr[50:80], color=\"black\", ax=axes[0])\n",
    "fig2 = sns.heatmap(cm, cmap=\"Blues\", linewidths=0.9, cbar=False, annot=True, fmt=\"d\", ax=axes[1])\n",
    "fig1.set(xlabel=\"FPR\", ylabel=\"TPR\")\n",
    "fig1.set_title(\"ROC Curve\")\n",
    "fig2.set(xlabel=\"Prediction\", ylabel=\"Truth\")\n",
    "fig2.set_title(\"Test\")\n",
    "fig.suptitle(\"Stacking Model\")\n",
    "plt.tight_layout()"
   ]
  },
  {
   "cell_type": "markdown",
   "id": "89f35f07-319e-4c62-8a0b-d2ccb8f89e15",
   "metadata": {},
   "source": [
    "*In our case stacking does not show any furthur improvement in recall rate for class 1*"
   ]
  },
  {
   "cell_type": "code",
   "execution_count": 182,
   "id": "32833d1e-1dc8-4b56-8478-3f2530ce17e0",
   "metadata": {},
   "outputs": [
    {
     "name": "stdout",
     "output_type": "stream",
     "text": [
      "              precision    recall  f1-score   support\n",
      "\n",
      "           0       1.00      1.00      1.00     71079\n",
      "           1       0.65      0.83      0.73       123\n",
      "\n",
      "    accuracy                           1.00     71202\n",
      "   macro avg       0.83      0.91      0.87     71202\n",
      "weighted avg       1.00      1.00      1.00     71202\n",
      "\n"
     ]
    }
   ],
   "source": [
    "print(classification_report(test_actual, test_pred))"
   ]
  },
  {
   "cell_type": "code",
   "execution_count": null,
   "id": "9845f8cc-5d8c-460e-ab68-417cb2fbc34f",
   "metadata": {},
   "outputs": [],
   "source": []
  }
 ],
 "metadata": {
  "kernelspec": {
   "display_name": "Python 3 (ipykernel)",
   "language": "python",
   "name": "python3"
  },
  "language_info": {
   "codemirror_mode": {
    "name": "ipython",
    "version": 3
   },
   "file_extension": ".py",
   "mimetype": "text/x-python",
   "name": "python",
   "nbconvert_exporter": "python",
   "pygments_lexer": "ipython3",
   "version": "3.9.11"
  }
 },
 "nbformat": 4,
 "nbformat_minor": 5
}
