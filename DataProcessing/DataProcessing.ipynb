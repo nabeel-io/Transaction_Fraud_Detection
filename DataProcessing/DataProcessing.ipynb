{
 "cells": [
  {
   "cell_type": "markdown",
   "id": "1c4f04e2-db1c-4f56-9494-953b98657af8",
   "metadata": {},
   "source": [
    "## **Data Processing**"
   ]
  },
  {
   "cell_type": "markdown",
   "id": "7877205f-ab35-4178-b42c-86da139f7536",
   "metadata": {},
   "source": [
    "TABLE OF CONTENTS\n",
    "\n",
    "1. Importing essential libraries\n",
    "2. Importing Function\n",
    "3. Importing data from csv\n",
    "4. Function to convert data type\n",
    "5. Conversion to different file formats\n",
    "6. Memory Usage\n",
    "7. Test file conversion"
   ]
  },
  {
   "cell_type": "markdown",
   "id": "1f26ab53-1138-4060-83c6-6bae1357a5ce",
   "metadata": {},
   "source": [
    "### **Importing essential libraries**"
   ]
  },
  {
   "cell_type": "markdown",
   "id": "68ac0e3c-fe09-4411-8b15-5af6ecca4c63",
   "metadata": {},
   "source": [
    "*Importing essential libraries like os, zipfile,pandas aslo pyarrow (for feather and parquet)*"
   ]
  },
  {
   "cell_type": "code",
   "execution_count": 89,
   "id": "6dc3bc28-2dbb-498b-99ea-53258cef4e87",
   "metadata": {},
   "outputs": [],
   "source": [
    "import os\n",
    "import zipfile\n",
    "import pandas as pd"
   ]
  },
  {
   "cell_type": "markdown",
   "id": "03ce4827-73b7-44fc-9c3e-4da3c6692058",
   "metadata": {},
   "source": [
    "### **Import Function**"
   ]
  },
  {
   "cell_type": "code",
   "execution_count": 90,
   "id": "87f88a13-2e05-4613-a42c-531366a5f672",
   "metadata": {},
   "outputs": [],
   "source": [
    "# function for importing data\n",
    "def import_data():\n",
    "    os.mkdir(\"data\")\n",
    "    !kaggle competitions download -c santander-customer-transaction-prediction -p data/\n",
    "    with zipfile.ZipFile(\"data/santander-customer-transaction-prediction.zip\", \"r\") as zipdata:\n",
    "        zipdata.extractall(\"data/\")"
   ]
  },
  {
   "cell_type": "code",
   "execution_count": 91,
   "id": "04b0bab2-687c-4dbd-98de-d02491cd9246",
   "metadata": {
    "tags": []
   },
   "outputs": [
    {
     "name": "stdout",
     "output_type": "stream",
     "text": [
      "Warning: Your Kaggle API key is readable by other users on this system! To fix this, you can run 'chmod 600 /home/nabeel/.kaggle/kaggle.json'\n",
      "Downloading santander-customer-transaction-prediction.zip to data\n",
      "100%|███████████████████████████████████████▉| 250M/250M [00:52<00:00, 5.67MB/s]\n",
      "100%|████████████████████████████████████████| 250M/250M [00:52<00:00, 4.98MB/s]\n"
     ]
    }
   ],
   "source": [
    "import_data()"
   ]
  },
  {
   "cell_type": "markdown",
   "id": "eebfbfc7-0a76-414d-85a5-0da917cd0b4b",
   "metadata": {
    "tags": []
   },
   "source": [
    "### **Importing data from csv**"
   ]
  },
  {
   "cell_type": "markdown",
   "id": "8886a8c6-411d-4cc8-9f70-95bc41f35c70",
   "metadata": {},
   "source": [
    "*As we can observe the train dataframe takes 3880 miliseconds. The data type for integer value is in int64 and continuous values\n",
    "is in float64 format*"
   ]
  },
  {
   "cell_type": "code",
   "execution_count": 92,
   "id": "7eafeec3-2e2b-4bf4-a499-5658dfec1038",
   "metadata": {},
   "outputs": [
    {
     "name": "stdout",
     "output_type": "stream",
     "text": [
      "CPU times: user 3.69 s, sys: 112 ms, total: 3.8 s\n",
      "Wall time: 3.88 s\n"
     ]
    }
   ],
   "source": [
    "%%time\n",
    "df_train = pd.read_csv(\"data/train.csv\", index_col=False)"
   ]
  },
  {
   "cell_type": "code",
   "execution_count": 93,
   "id": "81fc0b23-24d7-4781-94df-5abc617dd528",
   "metadata": {},
   "outputs": [
    {
     "name": "stdout",
     "output_type": "stream",
     "text": [
      "<class 'pandas.core.frame.DataFrame'>\n",
      "RangeIndex: 200000 entries, 0 to 199999\n",
      "Columns: 202 entries, ID_code to var_199\n",
      "dtypes: float64(200), int64(1), object(1)\n",
      "memory usage: 308.2+ MB\n"
     ]
    }
   ],
   "source": [
    "df_train.info()"
   ]
  },
  {
   "cell_type": "code",
   "execution_count": 94,
   "id": "fefdf796-e596-4512-a2ed-2035f6d658c8",
   "metadata": {},
   "outputs": [
    {
     "data": {
      "text/plain": [
       "ID_code     object\n",
       "target       int64\n",
       "var_0      float64\n",
       "var_1      float64\n",
       "var_2      float64\n",
       "            ...   \n",
       "var_195    float64\n",
       "var_196    float64\n",
       "var_197    float64\n",
       "var_198    float64\n",
       "var_199    float64\n",
       "Length: 202, dtype: object"
      ]
     },
     "execution_count": 94,
     "metadata": {},
     "output_type": "execute_result"
    }
   ],
   "source": [
    "df_train.dtypes"
   ]
  },
  {
   "cell_type": "markdown",
   "id": "c4239697-0126-4791-a1ac-54f32a3e670e",
   "metadata": {},
   "source": [
    "### **Function to convert data type**"
   ]
  },
  {
   "cell_type": "markdown",
   "id": "13d1a66b-f5b4-43dc-ab50-97bfcd2856a3",
   "metadata": {
    "tags": []
   },
   "source": [
    "*This function converts the int64 into int16 and float64 to float32 format without disturbing the precision, it also drops\n",
    "unneccesary columns in order to preserve the memory*"
   ]
  },
  {
   "cell_type": "code",
   "execution_count": 95,
   "id": "9dbbf478-97df-4c4a-ac77-dfe71cbbc731",
   "metadata": {
    "tags": []
   },
   "outputs": [],
   "source": [
    "# changing the datatype to save memory space\n",
    "def d2d(df, drop):\n",
    "    df = df.drop(columns=drop)\n",
    "    dict_dtypes = dict(df.dtypes) \n",
    "    for col,dtype in dict_dtypes.items():\n",
    "        if dtype == \"int64\":\n",
    "            df[col] = df[col].astype(\"int16\")\n",
    "        elif dtype == \"float64\":\n",
    "            df[col] = df[col].astype(\"float32\")\n",
    "        else:\n",
    "            pass\n",
    "    return df"
   ]
  },
  {
   "cell_type": "markdown",
   "id": "3d58abf2-d386-4f10-b56e-59840b173da0",
   "metadata": {},
   "source": [
    "*It took 3420 milliseconds to convert the entire dataset to the given format with almost cutting  the memory requirement \n",
    "in half from initial state*"
   ]
  },
  {
   "cell_type": "code",
   "execution_count": 96,
   "id": "d0a2b572-af6e-43ad-ade4-bcc3dfe913ad",
   "metadata": {},
   "outputs": [
    {
     "name": "stdout",
     "output_type": "stream",
     "text": [
      "CPU times: user 6.48 s, sys: 26.4 s, total: 32.9 s\n",
      "Wall time: 34.2 s\n"
     ]
    }
   ],
   "source": [
    "%%time\n",
    "df_train = d2d(df_train, ['ID_code'])"
   ]
  },
  {
   "cell_type": "code",
   "execution_count": 97,
   "id": "522c8292-4f19-4d4c-9919-a809d590efde",
   "metadata": {},
   "outputs": [
    {
     "name": "stdout",
     "output_type": "stream",
     "text": [
      "<class 'pandas.core.frame.DataFrame'>\n",
      "RangeIndex: 200000 entries, 0 to 199999\n",
      "Columns: 201 entries, target to var_199\n",
      "dtypes: float32(200), int16(1)\n",
      "memory usage: 153.0 MB\n"
     ]
    }
   ],
   "source": [
    "df_train.info()"
   ]
  },
  {
   "cell_type": "code",
   "execution_count": 98,
   "id": "1324e8b0-839b-40c7-9bea-33fbdae139e2",
   "metadata": {},
   "outputs": [
    {
     "data": {
      "text/plain": [
       "target       int16\n",
       "var_0      float32\n",
       "var_1      float32\n",
       "var_2      float32\n",
       "var_3      float32\n",
       "            ...   \n",
       "var_195    float32\n",
       "var_196    float32\n",
       "var_197    float32\n",
       "var_198    float32\n",
       "var_199    float32\n",
       "Length: 201, dtype: object"
      ]
     },
     "execution_count": 98,
     "metadata": {},
     "output_type": "execute_result"
    }
   ],
   "source": [
    "df_train.dtypes"
   ]
  },
  {
   "cell_type": "markdown",
   "id": "768a6668-44b3-450e-a65f-8cfaa25e5d3f",
   "metadata": {},
   "source": [
    "### **Conversion to different file formats** "
   ]
  },
  {
   "cell_type": "markdown",
   "id": "9abcf6d5-639f-4fda-bb86-9ac5083fde97",
   "metadata": {},
   "source": [
    "*We convert our processed data to three different file formats to compare there conversion speed and there read speed in order \n",
    "to get the file format which is faster to read and write*"
   ]
  },
  {
   "cell_type": "code",
   "execution_count": 99,
   "id": "a4214eeb-db80-402a-9e39-de0ea870b74f",
   "metadata": {},
   "outputs": [
    {
     "name": "stdout",
     "output_type": "stream",
     "text": [
      "Reading and Writing CSV\n",
      "CPU times: user 3.58 ms, sys: 130 ms, total: 134 ms\n",
      "Wall time: 157 ms\n",
      "CPU times: user 5.2 ms, sys: 29.2 ms, total: 34.4 ms\n",
      "Wall time: 34 ms\n"
     ]
    }
   ],
   "source": [
    "print('Reading and Writing CSV')\n",
    "%time df_train.to_pickle(\"data/train.pickle\")\n",
    "%time df_train = pd.read_pickle(\"data/train.pickle\")"
   ]
  },
  {
   "cell_type": "code",
   "execution_count": 100,
   "id": "698c83e6-68b3-45c7-b776-c4f9937d4107",
   "metadata": {},
   "outputs": [
    {
     "name": "stdout",
     "output_type": "stream",
     "text": [
      "Reading and Writing Feather\n",
      "CPU times: user 724 ms, sys: 185 ms, total: 909 ms\n",
      "Wall time: 1.05 s\n",
      "CPU times: user 477 ms, sys: 248 ms, total: 725 ms\n",
      "Wall time: 1.07 s\n"
     ]
    }
   ],
   "source": [
    "print('Reading and Writing Feather')\n",
    "%time df_train.to_feather(\"data/train.feather\")\n",
    "%time df_train = pd.read_feather(\"data/train.feather\")"
   ]
  },
  {
   "cell_type": "code",
   "execution_count": 101,
   "id": "3aede574-06f2-4608-955b-c260e11643c7",
   "metadata": {},
   "outputs": [
    {
     "name": "stdout",
     "output_type": "stream",
     "text": [
      "Reading and Writing Parquet\n",
      "CPU times: user 2.65 s, sys: 136 ms, total: 2.78 s\n",
      "Wall time: 2.67 s\n",
      "CPU times: user 552 ms, sys: 394 ms, total: 946 ms\n",
      "Wall time: 5.38 s\n"
     ]
    }
   ],
   "source": [
    "print('Reading and Writing Parquet')\n",
    "%time df_train.to_parquet(\"data/train.parquet\")\n",
    "%time df_train = pd.read_parquet(\"data/train.parquet\")"
   ]
  },
  {
   "cell_type": "markdown",
   "id": "5035f813-9632-49b2-9161-a014b3c3720c",
   "metadata": {},
   "source": [
    "*Out of pickle, feather and parquet file format we find pickle to have the fastest read and and write speed and \n",
    "we will prefer to use this format to import data for rest of the project work*"
   ]
  },
  {
   "cell_type": "markdown",
   "id": "15a2d2bd-3e06-4592-99c8-134eef6240af",
   "metadata": {},
   "source": [
    "### **Memory Usage**"
   ]
  },
  {
   "cell_type": "markdown",
   "id": "05fbae29-cfca-4229-a865-a077e9465629",
   "metadata": {},
   "source": [
    "*Out of the three file formats pickle and feather use the least memory but since the speed of read and write of pickle file \n",
    "is much faster than other file format in our case we will prefer to use it*"
   ]
  },
  {
   "cell_type": "code",
   "execution_count": 103,
   "id": "48787154-3d8e-4c23-a1b4-b79131f09eb1",
   "metadata": {
    "tags": []
   },
   "outputs": [
    {
     "name": "stdout",
     "output_type": "stream",
     "text": [
      "289M -rw-rw-r-- 1 nabeel 289M Jun 12 16:14 data/train.csv\n",
      "153M -rw-rw-r-- 1 nabeel 153M Jun 12 16:15 data/train.feather\n",
      "156M -rw-rw-r-- 1 nabeel 156M Jun 12 16:15 data/train.parquet\n",
      "153M -rw-rw-r-- 1 nabeel 153M Jun 12 16:15 data/train.pickle\n"
     ]
    }
   ],
   "source": [
    "!ls -GFlash data/train.csv data/train.pickle data/train.feather data/train.parquet"
   ]
  },
  {
   "cell_type": "markdown",
   "id": "a0c23820-557c-4f86-959f-999e33569061",
   "metadata": {},
   "source": [
    "### **Test file conversion**"
   ]
  },
  {
   "cell_type": "code",
   "execution_count": 104,
   "id": "eefc39fc-ac88-4a5f-95f7-2c5107551c1e",
   "metadata": {},
   "outputs": [],
   "source": [
    "df_test = pd.read_csv(\"data/test.csv\")\n",
    "df_test = d2d(df_test, [\"ID_code\"])\n",
    "df_test.to_pickle(\"data/test.pickle\")"
   ]
  },
  {
   "cell_type": "code",
   "execution_count": null,
   "id": "d9571519-0aa8-4184-8879-eba4ece02535",
   "metadata": {},
   "outputs": [],
   "source": []
  }
 ],
 "metadata": {
  "kernelspec": {
   "display_name": "Python 3 (ipykernel)",
   "language": "python",
   "name": "python3"
  },
  "language_info": {
   "codemirror_mode": {
    "name": "ipython",
    "version": 3
   },
   "file_extension": ".py",
   "mimetype": "text/x-python",
   "name": "python",
   "nbconvert_exporter": "python",
   "pygments_lexer": "ipython3",
   "version": "3.9.11"
  }
 },
 "nbformat": 4,
 "nbformat_minor": 5
}
