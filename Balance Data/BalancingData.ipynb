{
 "cells": [
  {
   "cell_type": "code",
   "execution_count": 35,
   "id": "690f6846-d2b9-4ee3-9792-b44f7c067108",
   "metadata": {},
   "outputs": [],
   "source": [
    "import numpy as np \n",
    "import pandas as pd\n",
    "import matplotlib.pyplot as plt\n",
    "import seaborn as sns"
   ]
  },
  {
   "cell_type": "code",
   "execution_count": 36,
   "id": "b284cfaf-4dd0-47b7-8293-d1cd5fba2f53",
   "metadata": {},
   "outputs": [],
   "source": [
    "df = pd.read_pickle(\"data/train.pickle\")\n",
    "test = pd.read_pickle(\"data/test.pickle\")"
   ]
  },
  {
   "cell_type": "code",
   "execution_count": 37,
   "id": "7ce9f8ff-0946-4ff3-a96d-53d57ba6701c",
   "metadata": {},
   "outputs": [],
   "source": [
    "X = df.iloc[:, 1:]\n",
    "y = df[\"target\"]"
   ]
  },
  {
   "cell_type": "code",
   "execution_count": 38,
   "id": "54357b37-6384-4dac-8446-ec50ca057f0e",
   "metadata": {},
   "outputs": [
    {
     "name": "stdout",
     "output_type": "stream",
     "text": [
      "Rows:  200000\n",
      "Columns:  200\n"
     ]
    }
   ],
   "source": [
    "print(\"Rows: \" , X.shape[0])\n",
    "print(\"Columns: \", X.shape[1])"
   ]
  },
  {
   "cell_type": "code",
   "execution_count": 39,
   "id": "81d59b05-00c5-4162-8835-e0a45d2e237b",
   "metadata": {},
   "outputs": [
    {
     "data": {
      "text/plain": [
       "0    0.89951\n",
       "1    0.10049\n",
       "Name: target, dtype: float64"
      ]
     },
     "execution_count": 39,
     "metadata": {},
     "output_type": "execute_result"
    }
   ],
   "source": [
    "y.value_counts()/len(y)"
   ]
  },
  {
   "cell_type": "code",
   "execution_count": 40,
   "id": "34dce104-4886-411e-ae91-40066553b056",
   "metadata": {},
   "outputs": [],
   "source": [
    "# Using PCA to reduce the dimensions of data and keep all the compnents which capture 95% of variance\n",
    "# also reducing dimensions will make over sampling less computationally expensive"
   ]
  },
  {
   "cell_type": "code",
   "execution_count": 41,
   "id": "49a5f303-e45d-4d8b-b6d1-def405cd2833",
   "metadata": {},
   "outputs": [
    {
     "name": "stdout",
     "output_type": "stream",
     "text": [
      "95% variance is campture in 110 dimensions\n"
     ]
    }
   ],
   "source": [
    "from sklearn.decomposition import PCA\n",
    "pca = PCA()\n",
    "pca.fit(X)\n",
    "cumsum = np.cumsum(pca.explained_variance_ratio_)\n",
    "dim = np.argmax(cumsum >= 0.95)\n",
    "print(\"95% variance is campture in\", dim , \"dimensions\")"
   ]
  },
  {
   "cell_type": "code",
   "execution_count": 42,
   "id": "aadd63bb-0545-4d6d-a3ab-934bf2c38ddc",
   "metadata": {},
   "outputs": [],
   "source": [
    "pca = PCA(n_components=110, random_state=123)\n",
    "X_reduced = pca.fit_transform(X)\n",
    "X_reduced = pd.DataFrame(X_reduced)\n",
    "test_reduced = pca.transform(test)\n",
    "test_reduced = pd.DataFrame(test_reduced)"
   ]
  },
  {
   "cell_type": "code",
   "execution_count": 43,
   "id": "e988e413-be20-4ae8-afd0-059ad3615f23",
   "metadata": {},
   "outputs": [],
   "source": [
    "# using over sampling to balance the dataset"
   ]
  },
  {
   "cell_type": "code",
   "execution_count": 44,
   "id": "ae32a4e9-df10-483c-9c64-cd7e6520699a",
   "metadata": {},
   "outputs": [],
   "source": [
    "from imblearn.over_sampling import SMOTE\n",
    "sampling = SMOTE(random_state=3141)\n",
    "X_ov, y_ov = sampling.fit_resample(X_reduced, y)\n",
    "df_reduced = pd.concat([X_ov, y_ov], axis=1)\n",
    "df_reduced = df_reduced.sample(frac=1)"
   ]
  },
  {
   "cell_type": "code",
   "execution_count": 45,
   "id": "d20c8bfb-a347-4e49-8f7d-f89a034954c5",
   "metadata": {},
   "outputs": [
    {
     "data": {
      "text/plain": [
       "0    0.5\n",
       "1    0.5\n",
       "Name: target, dtype: float64"
      ]
     },
     "execution_count": 45,
     "metadata": {},
     "output_type": "execute_result"
    }
   ],
   "source": [
    "y_ov.value_counts()/len(y_ov)"
   ]
  },
  {
   "cell_type": "code",
   "execution_count": 46,
   "id": "2380b160-78a9-4517-b1e9-6fcab7bb5aec",
   "metadata": {},
   "outputs": [],
   "source": [
    "df_reduced.to_pickle(\"data/df_reduced.pickle\")\n",
    "test_reduced.to_pickle(\"data/test_reduced.pickle\")"
   ]
  }
 ],
 "metadata": {
  "kernelspec": {
   "display_name": "Python 3 (ipykernel)",
   "language": "python",
   "name": "python3"
  },
  "language_info": {
   "codemirror_mode": {
    "name": "ipython",
    "version": 3
   },
   "file_extension": ".py",
   "mimetype": "text/x-python",
   "name": "python",
   "nbconvert_exporter": "python",
   "pygments_lexer": "ipython3",
   "version": "3.9.11"
  }
 },
 "nbformat": 4,
 "nbformat_minor": 5
}
